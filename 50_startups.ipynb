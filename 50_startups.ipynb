 "### **NOTE: Before going to this project read README file** .."
{
 "cells": [
  {
   "cell_type": "markdown",
   "id": "f872715f-ba80-4a00-9a5a-5445e553891b",
   "metadata": {},
   "source": [
    "### **In this File we are going to apply complete Regression Algorithm with CV and Regularization** .."
   ]
  },
  {
   "cell_type": "code",
   "execution_count": 1,
   "id": "a3a7163f-6a55-494b-9816-178dec05cdc3",
   "metadata": {},
   "outputs": [],
   "source": [
    "#import all nessesary libraries :\n",
    "import pandas as pd                  #for the data cleaning and processing\n",
    "import numpy as np                   # to perform mathematical expression \n",
    "import matplotlib.pyplot as plt      #visualization tool\n",
    "import seaborn as sns                #visualization tool\n",
    "import sklearn                       #for model evaluation and deplyment\n",
    "import scipy\n",
    "#The only reason %matplotlib inline is used is to render any matplotlib\n",
    "#diagrams even if the plt. show() function is not called.\n",
    "%matplotlib  inline  \n"
   ]
  },
  {
   "cell_type": "code",
   "execution_count": 2,
   "id": "62cb8036-3a89-4554-be83-9fac29f2ecbe",
   "metadata": {},
   "outputs": [
    {
     "data": {
      "text/html": [
       "<div>\n",
       "<style scoped>\n",
       "    .dataframe tbody tr th:only-of-type {\n",
       "        vertical-align: middle;\n",
       "    }\n",
       "\n",
       "    .dataframe tbody tr th {\n",
       "        vertical-align: top;\n",
       "    }\n",
       "\n",
       "    .dataframe thead th {\n",
       "        text-align: right;\n",
       "    }\n",
       "</style>\n",
       "<table border=\"1\" class=\"dataframe\">\n",
       "  <thead>\n",
       "    <tr style=\"text-align: right;\">\n",
       "      <th></th>\n",
       "      <th>R&amp;D Spend</th>\n",
       "      <th>Administration</th>\n",
       "      <th>Marketing Spend</th>\n",
       "      <th>State</th>\n",
       "      <th>Profit</th>\n",
       "    </tr>\n",
       "  </thead>\n",
       "  <tbody>\n",
       "    <tr>\n",
       "      <th>0</th>\n",
       "      <td>165349.20</td>\n",
       "      <td>136897.80</td>\n",
       "      <td>471784.10</td>\n",
       "      <td>New York</td>\n",
       "      <td>192261.83</td>\n",
       "    </tr>\n",
       "    <tr>\n",
       "      <th>1</th>\n",
       "      <td>162597.70</td>\n",
       "      <td>151377.59</td>\n",
       "      <td>443898.53</td>\n",
       "      <td>California</td>\n",
       "      <td>191792.06</td>\n",
       "    </tr>\n",
       "    <tr>\n",
       "      <th>2</th>\n",
       "      <td>153441.51</td>\n",
       "      <td>101145.55</td>\n",
       "      <td>407934.54</td>\n",
       "      <td>Florida</td>\n",
       "      <td>191050.39</td>\n",
       "    </tr>\n",
       "    <tr>\n",
       "      <th>3</th>\n",
       "      <td>144372.41</td>\n",
       "      <td>118671.85</td>\n",
       "      <td>383199.62</td>\n",
       "      <td>New York</td>\n",
       "      <td>182901.99</td>\n",
       "    </tr>\n",
       "    <tr>\n",
       "      <th>4</th>\n",
       "      <td>142107.34</td>\n",
       "      <td>91391.77</td>\n",
       "      <td>366168.42</td>\n",
       "      <td>Florida</td>\n",
       "      <td>166187.94</td>\n",
       "    </tr>\n",
       "  </tbody>\n",
       "</table>\n",
       "</div>"
      ],
      "text/plain": [
       "   R&D Spend  Administration  Marketing Spend       State     Profit\n",
       "0  165349.20       136897.80        471784.10    New York  192261.83\n",
       "1  162597.70       151377.59        443898.53  California  191792.06\n",
       "2  153441.51       101145.55        407934.54     Florida  191050.39\n",
       "3  144372.41       118671.85        383199.62    New York  182901.99\n",
       "4  142107.34        91391.77        366168.42     Florida  166187.94"
      ]
     },
     "execution_count": 2,
     "metadata": {},
     "output_type": "execute_result"
    }
   ],
   "source": [
    "#read data and print head :\n",
    "data=pd.read_csv(\"50_Startups.csv\")\n",
    "data.head()"
   ]
  },
  {
   "cell_type": "markdown",
   "id": "f974d9ce-ab85-408a-b4cf-8e46cbd9abaa",
   "metadata": {},
   "source": [
    "### *About the data*  :-\n",
    "\n",
    "* This particular dataset holds data from 50 startups in `New York`, `California`, and `Florida`. The features in this dataset are `R&D spending`, `Administration Spending`, `Marketing Spending`, and `State`, while the target variable is: `Profit`. \n",
    "\n",
    "1. R&D spending: The amount which startups are spending on Research and development.\n",
    "\n",
    "2. Administration spending: The amount which startups are spending on the Admin panel.\n",
    "\n",
    "3. Marketing spending: The amount which startups are spending on marketing strategies.\n",
    "\n",
    "4. State: To which state that particular startup belongs.\n",
    "\n",
    "5. Profit: How much profit that particular startup is making."
   ]
  },
  {
   "cell_type": "code",
   "execution_count": 3,
   "id": "883490d1-a4dd-4be2-9dca-15aa88e8301b",
   "metadata": {},
   "outputs": [
    {
     "name": "stdout",
     "output_type": "stream",
     "text": [
      "There is  50 rows &  5 columns in data-set\n"
     ]
    }
   ],
   "source": [
    "#total rows and columns\n",
    "print('There is ',data.shape[0],'rows & ',data.shape[1],'columns in data-set')"
   ]
  },
  {
   "cell_type": "code",
   "execution_count": 4,
   "id": "4b459893-5437-4e13-bdfe-ca3c97dbb83d",
   "metadata": {},
   "outputs": [
    {
     "data": {
      "text/html": [
       "<div>\n",
       "<style scoped>\n",
       "    .dataframe tbody tr th:only-of-type {\n",
       "        vertical-align: middle;\n",
       "    }\n",
       "\n",
       "    .dataframe tbody tr th {\n",
       "        vertical-align: top;\n",
       "    }\n",
       "\n",
       "    .dataframe thead th {\n",
       "        text-align: right;\n",
       "    }\n",
       "</style>\n",
       "<table border=\"1\" class=\"dataframe\">\n",
       "  <thead>\n",
       "    <tr style=\"text-align: right;\">\n",
       "      <th></th>\n",
       "      <th>R&amp;D Spend</th>\n",
       "      <th>Administration</th>\n",
       "      <th>Marketing Spend</th>\n",
       "      <th>State</th>\n",
       "      <th>Profit</th>\n",
       "    </tr>\n",
       "  </thead>\n",
       "  <tbody>\n",
       "    <tr>\n",
       "      <th>45</th>\n",
       "      <td>1000.23</td>\n",
       "      <td>124153.04</td>\n",
       "      <td>1903.93</td>\n",
       "      <td>New York</td>\n",
       "      <td>64926.08</td>\n",
       "    </tr>\n",
       "    <tr>\n",
       "      <th>46</th>\n",
       "      <td>1315.46</td>\n",
       "      <td>115816.21</td>\n",
       "      <td>297114.46</td>\n",
       "      <td>Florida</td>\n",
       "      <td>49490.75</td>\n",
       "    </tr>\n",
       "    <tr>\n",
       "      <th>47</th>\n",
       "      <td>0.00</td>\n",
       "      <td>135426.92</td>\n",
       "      <td>0.00</td>\n",
       "      <td>California</td>\n",
       "      <td>42559.73</td>\n",
       "    </tr>\n",
       "    <tr>\n",
       "      <th>48</th>\n",
       "      <td>542.05</td>\n",
       "      <td>51743.15</td>\n",
       "      <td>0.00</td>\n",
       "      <td>New York</td>\n",
       "      <td>35673.41</td>\n",
       "    </tr>\n",
       "    <tr>\n",
       "      <th>49</th>\n",
       "      <td>0.00</td>\n",
       "      <td>116983.80</td>\n",
       "      <td>45173.06</td>\n",
       "      <td>California</td>\n",
       "      <td>14681.40</td>\n",
       "    </tr>\n",
       "  </tbody>\n",
       "</table>\n",
       "</div>"
      ],
      "text/plain": [
       "    R&D Spend  Administration  Marketing Spend       State    Profit\n",
       "45    1000.23       124153.04          1903.93    New York  64926.08\n",
       "46    1315.46       115816.21        297114.46     Florida  49490.75\n",
       "47       0.00       135426.92             0.00  California  42559.73\n",
       "48     542.05        51743.15             0.00    New York  35673.41\n",
       "49       0.00       116983.80         45173.06  California  14681.40"
      ]
     },
     "execution_count": 4,
     "metadata": {},
     "output_type": "execute_result"
    }
   ],
   "source": [
    "data.tail()"
   ]
  },
  {
   "cell_type": "code",
   "execution_count": 5,
   "id": "aedefff7-692c-4421-bec0-51d824530285",
   "metadata": {},
   "outputs": [
    {
     "data": {
      "text/html": [
       "<div>\n",
       "<style scoped>\n",
       "    .dataframe tbody tr th:only-of-type {\n",
       "        vertical-align: middle;\n",
       "    }\n",
       "\n",
       "    .dataframe tbody tr th {\n",
       "        vertical-align: top;\n",
       "    }\n",
       "\n",
       "    .dataframe thead th {\n",
       "        text-align: right;\n",
       "    }\n",
       "</style>\n",
       "<table border=\"1\" class=\"dataframe\">\n",
       "  <thead>\n",
       "    <tr style=\"text-align: right;\">\n",
       "      <th></th>\n",
       "      <th>R&amp;D Spend</th>\n",
       "      <th>Administration</th>\n",
       "      <th>Marketing Spend</th>\n",
       "      <th>Profit</th>\n",
       "    </tr>\n",
       "  </thead>\n",
       "  <tbody>\n",
       "    <tr>\n",
       "      <th>count</th>\n",
       "      <td>50.000000</td>\n",
       "      <td>50.000000</td>\n",
       "      <td>50.000000</td>\n",
       "      <td>50.000000</td>\n",
       "    </tr>\n",
       "    <tr>\n",
       "      <th>mean</th>\n",
       "      <td>73721.615600</td>\n",
       "      <td>121344.639600</td>\n",
       "      <td>211025.097800</td>\n",
       "      <td>112012.639200</td>\n",
       "    </tr>\n",
       "    <tr>\n",
       "      <th>std</th>\n",
       "      <td>45902.256482</td>\n",
       "      <td>28017.802755</td>\n",
       "      <td>122290.310726</td>\n",
       "      <td>40306.180338</td>\n",
       "    </tr>\n",
       "    <tr>\n",
       "      <th>min</th>\n",
       "      <td>0.000000</td>\n",
       "      <td>51283.140000</td>\n",
       "      <td>0.000000</td>\n",
       "      <td>14681.400000</td>\n",
       "    </tr>\n",
       "    <tr>\n",
       "      <th>25%</th>\n",
       "      <td>39936.370000</td>\n",
       "      <td>103730.875000</td>\n",
       "      <td>129300.132500</td>\n",
       "      <td>90138.902500</td>\n",
       "    </tr>\n",
       "    <tr>\n",
       "      <th>50%</th>\n",
       "      <td>73051.080000</td>\n",
       "      <td>122699.795000</td>\n",
       "      <td>212716.240000</td>\n",
       "      <td>107978.190000</td>\n",
       "    </tr>\n",
       "    <tr>\n",
       "      <th>75%</th>\n",
       "      <td>101602.800000</td>\n",
       "      <td>144842.180000</td>\n",
       "      <td>299469.085000</td>\n",
       "      <td>139765.977500</td>\n",
       "    </tr>\n",
       "    <tr>\n",
       "      <th>max</th>\n",
       "      <td>165349.200000</td>\n",
       "      <td>182645.560000</td>\n",
       "      <td>471784.100000</td>\n",
       "      <td>192261.830000</td>\n",
       "    </tr>\n",
       "  </tbody>\n",
       "</table>\n",
       "</div>"
      ],
      "text/plain": [
       "           R&D Spend  Administration  Marketing Spend         Profit\n",
       "count      50.000000       50.000000        50.000000      50.000000\n",
       "mean    73721.615600   121344.639600    211025.097800  112012.639200\n",
       "std     45902.256482    28017.802755    122290.310726   40306.180338\n",
       "min         0.000000    51283.140000         0.000000   14681.400000\n",
       "25%     39936.370000   103730.875000    129300.132500   90138.902500\n",
       "50%     73051.080000   122699.795000    212716.240000  107978.190000\n",
       "75%    101602.800000   144842.180000    299469.085000  139765.977500\n",
       "max    165349.200000   182645.560000    471784.100000  192261.830000"
      ]
     },
     "execution_count": 5,
     "metadata": {},
     "output_type": "execute_result"
    }
   ],
   "source": [
    "data.describe()"
   ]
  },
  {
   "cell_type": "code",
   "execution_count": 6,
   "id": "176b2b29-55b6-4e84-9709-30e6117c11d4",
   "metadata": {},
   "outputs": [
    {
     "name": "stdout",
     "output_type": "stream",
     "text": [
      "<class 'pandas.core.frame.DataFrame'>\n",
      "RangeIndex: 50 entries, 0 to 49\n",
      "Data columns (total 5 columns):\n",
      " #   Column           Non-Null Count  Dtype  \n",
      "---  ------           --------------  -----  \n",
      " 0   R&D Spend        50 non-null     float64\n",
      " 1   Administration   50 non-null     float64\n",
      " 2   Marketing Spend  50 non-null     float64\n",
      " 3   State            50 non-null     object \n",
      " 4   Profit           50 non-null     float64\n",
      "dtypes: float64(4), object(1)\n",
      "memory usage: 2.1+ KB\n"
     ]
    }
   ],
   "source": [
    "data.info()"
   ]
  },
  {
   "cell_type": "code",
   "execution_count": 7,
   "id": "9ff15eaa-8a20-4172-ab6a-4d2bdd533a44",
   "metadata": {},
   "outputs": [
    {
     "data": {
      "text/plain": [
       "R&D Spend          0\n",
       "Administration     0\n",
       "Marketing Spend    0\n",
       "State              0\n",
       "Profit             0\n",
       "dtype: int64"
      ]
     },
     "execution_count": 7,
     "metadata": {},
     "output_type": "execute_result"
    }
   ],
   "source": [
    "#checking for null values :\n",
    "data.isnull().sum()"
   ]
  },
  {
   "cell_type": "markdown",
   "id": "ca82e9ed-56df-4e1f-b1ef-76dac535aa53",
   "metadata": {},
   "source": [
    "**Inference:** There are no null values present  in the dataset."
   ]
  },
  {
   "cell_type": "code",
   "execution_count": 8,
   "id": "11c3b6b9-8954-48ad-8335-0874f8a5a884",
   "metadata": {},
   "outputs": [
    {
     "data": {
      "text/plain": [
       "False"
      ]
     },
     "execution_count": 8,
     "metadata": {},
     "output_type": "execute_result"
    }
   ],
   "source": [
    "data.duplicated().any()"
   ]
  },
  {
   "cell_type": "markdown",
   "id": "b5930cb2-ec07-42a7-9042-b53abcf56b54",
   "metadata": {},
   "source": [
    "## 1] EDA :"
   ]
  },
  {
   "cell_type": "markdown",
   "id": "6d7f3815-e644-4b49-a4d7-6fc28f68a94d",
   "metadata": {},
   "source": [
    "**1.1 Check Corr:-**"
   ]
  },
  {
   "cell_type": "code",
   "execution_count": 9,
   "id": "8a670a88-4e45-4801-b1b8-e6c43c5ef8e9",
   "metadata": {},
   "outputs": [
    {
     "data": {
      "text/html": [
       "<div>\n",
       "<style scoped>\n",
       "    .dataframe tbody tr th:only-of-type {\n",
       "        vertical-align: middle;\n",
       "    }\n",
       "\n",
       "    .dataframe tbody tr th {\n",
       "        vertical-align: top;\n",
       "    }\n",
       "\n",
       "    .dataframe thead th {\n",
       "        text-align: right;\n",
       "    }\n",
       "</style>\n",
       "<table border=\"1\" class=\"dataframe\">\n",
       "  <thead>\n",
       "    <tr style=\"text-align: right;\">\n",
       "      <th></th>\n",
       "      <th>R&amp;D Spend</th>\n",
       "      <th>Administration</th>\n",
       "      <th>Marketing Spend</th>\n",
       "      <th>Profit</th>\n",
       "    </tr>\n",
       "  </thead>\n",
       "  <tbody>\n",
       "    <tr>\n",
       "      <th>R&amp;D Spend</th>\n",
       "      <td>1.000000</td>\n",
       "      <td>0.241955</td>\n",
       "      <td>0.724248</td>\n",
       "      <td>0.972900</td>\n",
       "    </tr>\n",
       "    <tr>\n",
       "      <th>Administration</th>\n",
       "      <td>0.241955</td>\n",
       "      <td>1.000000</td>\n",
       "      <td>-0.032154</td>\n",
       "      <td>0.200717</td>\n",
       "    </tr>\n",
       "    <tr>\n",
       "      <th>Marketing Spend</th>\n",
       "      <td>0.724248</td>\n",
       "      <td>-0.032154</td>\n",
       "      <td>1.000000</td>\n",
       "      <td>0.747766</td>\n",
       "    </tr>\n",
       "    <tr>\n",
       "      <th>Profit</th>\n",
       "      <td>0.972900</td>\n",
       "      <td>0.200717</td>\n",
       "      <td>0.747766</td>\n",
       "      <td>1.000000</td>\n",
       "    </tr>\n",
       "  </tbody>\n",
       "</table>\n",
       "</div>"
      ],
      "text/plain": [
       "                 R&D Spend  Administration  Marketing Spend    Profit\n",
       "R&D Spend         1.000000        0.241955         0.724248  0.972900\n",
       "Administration    0.241955        1.000000        -0.032154  0.200717\n",
       "Marketing Spend   0.724248       -0.032154         1.000000  0.747766\n",
       "Profit            0.972900        0.200717         0.747766  1.000000"
      ]
     },
     "execution_count": 9,
     "metadata": {},
     "output_type": "execute_result"
    }
   ],
   "source": [
    "#check corr values for target varriable\n",
    "data.corr()"
   ]
  },
  {
   "cell_type": "markdown",
   "id": "f43b15c7-7afd-45d7-8e4b-5fde8a879e83",
   "metadata": {},
   "source": [
    "**Inference:** So we have a good corr values for our  target columns `[profit]`."
   ]
  },
  {
   "cell_type": "markdown",
   "id": "faffa723-0bf2-4407-9f1a-91de61b9d6d8",
   "metadata": {},
   "source": [
    "#feature Engineering :\n",
    "data[\"spent\"]=data['R&D Spend']+data['Administration']+data['Marketing Spend']"
   ]
  },
  {
   "cell_type": "markdown",
   "id": "335f8795-e59e-47f9-9ae6-dca43fc02eb2",
   "metadata": {},
   "source": [
    "**1.1 ]  Checking For Corr**"
   ]
  },
  {
   "cell_type": "code",
   "execution_count": 10,
   "id": "5f2219fa-f876-4f60-9d13-2796ffa762a0",
   "metadata": {},
   "outputs": [
    {
     "data": {
      "text/plain": [
       "<AxesSubplot:>"
      ]
     },
     "execution_count": 10,
     "metadata": {},
     "output_type": "execute_result"
    },
    {
     "data": {
      "image/png": "[encoded data removed]",
      "text/plain": [
       "<Figure size 720x360 with 2 Axes>"
      ]
     },
     "metadata": {
      "needs_background": "light"
     },
     "output_type": "display_data"
    }
   ],
   "source": [
    "plt.figure(figsize=(10,5))\n",
    "sns.heatmap(data.corr() ,annot=True  ,cmap='YlGnBu',fmt=\".2f\")"
   ]
  },
  {
   "cell_type": "markdown",
   "id": "9bbb63fa-5eeb-4e5b-8945-d8122dc56c9d",
   "metadata": {},
   "source": [
    "**Inference:** So we have a good corr values for our  target columns `[profit]`."
   ]
  },
  {
   "cell_type": "markdown",
   "id": "78d9e094-26ad-4cd5-86e6-ff0a5578754c",
   "metadata": {},
   "source": [
    "**1.2 ]  Checking For Outliers**"
   ]
  },
  {
   "cell_type": "code",
   "execution_count": 11,
   "id": "5eb427a0-d2f6-4ed4-a83c-a11de5178a52",
   "metadata": {},
   "outputs": [
    {
     "name": "stdout",
     "output_type": "stream",
     "text": [
      "Features_name : R&D Spend\n",
      "Count_upper_out: 0\n",
      "Count_lower_out: 0\n"
     ]
    },
    {
     "name": "stderr",
     "output_type": "stream",
     "text": [
      "C:\\Users\\hp\\anaconda3\\lib\\site-packages\\seaborn\\_decorators.py:36: FutureWarning: Pass the following variable as a keyword arg: x. From version 0.12, the only valid positional argument will be `data`, and passing other arguments without an explicit keyword will result in an error or misinterpretation.\n",
      "  warnings.warn(\n"
     ]
    },
    {
     "data": {
      "image/png": "[encoded data removed]",
      "text/plain": [
       "<Figure size 432x288 with 1 Axes>"
      ]
     },
     "metadata": {
      "needs_background": "light"
     },
     "output_type": "display_data"
    },
    {
     "name": "stdout",
     "output_type": "stream",
     "text": [
      "Features_name : Administration\n",
      "Count_upper_out: 0\n",
      "Count_lower_out: 0\n"
     ]
    },
    {
     "name": "stderr",
     "output_type": "stream",
     "text": [
      "C:\\Users\\hp\\anaconda3\\lib\\site-packages\\seaborn\\_decorators.py:36: FutureWarning: Pass the following variable as a keyword arg: x. From version 0.12, the only valid positional argument will be `data`, and passing other arguments without an explicit keyword will result in an error or misinterpretation.\n",
      "  warnings.warn(\n"
     ]
    },
    {
     "data": {
      "image/png": "[encoded data removed]",
      "text/plain": [
       "<Figure size 432x288 with 1 Axes>"
      ]
     },
     "metadata": {
      "needs_background": "light"
     },
     "output_type": "display_data"
    },
    {
     "name": "stdout",
     "output_type": "stream",
     "text": [
      "Features_name : Marketing Spend\n",
      "Count_upper_out: 0\n",
      "Count_lower_out: 0\n"
     ]
    },
    {
     "name": "stderr",
     "output_type": "stream",
     "text": [
      "C:\\Users\\hp\\anaconda3\\lib\\site-packages\\seaborn\\_decorators.py:36: FutureWarning: Pass the following variable as a keyword arg: x. From version 0.12, the only valid positional argument will be `data`, and passing other arguments without an explicit keyword will result in an error or misinterpretation.\n",
      "  warnings.warn(\n"
     ]
    },
    {
     "data": {
      "image/png": "[encoded data removed]",
      "text/plain": [
       "<Figure size 432x288 with 1 Axes>"
      ]
     },
     "metadata": {
      "needs_background": "light"
     },
     "output_type": "display_data"
    },
    {
     "name": "stdout",
     "output_type": "stream",
     "text": [
      "Features_name : Profit\n",
      "Count_upper_out: 0\n",
      "Count_lower_out: 1\n"
     ]
    },
    {
     "name": "stderr",
     "output_type": "stream",
     "text": [
      "C:\\Users\\hp\\anaconda3\\lib\\site-packages\\seaborn\\_decorators.py:36: FutureWarning: Pass the following variable as a keyword arg: x. From version 0.12, the only valid positional argument will be `data`, and passing other arguments without an explicit keyword will result in an error or misinterpretation.\n",
      "  warnings.warn(\n"
     ]
    },
    {
     "data": {
      "image/png": "[encoded data removed]",
      "text/plain": [
       "<Figure size 432x288 with 1 Axes>"
      ]
     },
     "metadata": {
      "needs_background": "light"
     },
     "output_type": "display_data"
    }
   ],
   "source": [
    "#checking for outliers :\n",
    "data1=data[['R&D Spend', 'Administration', 'Marketing Spend', 'Profit']]\n",
    "for i in data1.columns:\n",
    "    print(\"Features_name :\",i)\n",
    "    q1=data1[i].quantile(q=0.25)\n",
    "    q3=data1[i].quantile(q=0.75)\n",
    "    Iqr= q3 - q1\n",
    "    low=q1-1.5*Iqr\n",
    "    high=q3+1.5*Iqr\n",
    "    upper_outliers=data1[data1[i] > high] [i] .count()\n",
    "    lower_outliers=data1[data1[i] <low ] [i] .count()\n",
    "    \n",
    "    print(\"Count_upper_out:\",upper_outliers)\n",
    "    print(\"Count_lower_out:\",lower_outliers)\n",
    "    \n",
    "    sns.boxplot(data[i],color='yellow')\n",
    "    plt.title(\"Outliers Varriabe Distribution\")\n",
    "    \n",
    "    plt.show()"
   ]
  },
  {
   "cell_type": "markdown",
   "id": "1a5e9efa-4f17-4f1d-a322-767ecec9bcdb",
   "metadata": {},
   "source": [
    "**Conclusion:** In the data we have the some Outliers , but we not handle this because the data quantity is less & it affects negatively on the data "
   ]
  },
  {
   "cell_type": "markdown",
   "id": "e25942b9-d0f7-4343-9477-a44f281c2429",
   "metadata": {},
   "source": [
    "**1.2.1 Outliers-check:-**"
   ]
  },
  {
   "cell_type": "code",
   "execution_count": 12,
   "id": "6075504b-7e95-4d6d-a018-b3851d41a273",
   "metadata": {},
   "outputs": [
    {
     "data": {
      "image/png": "[encoded data removed]",
      "text/plain": [
       "<Figure size 432x288 with 1 Axes>"
      ]
     },
     "metadata": {
      "needs_background": "light"
     },
     "output_type": "display_data"
    }
   ],
   "source": [
    "sns.boxplot(x = 'Profit', y = 'State', data = data, orient=\"h\")\n",
    "plt.title(\"Outliers Varriable Distribution\")\n",
    "plt.show()"
   ]
  },
  {
   "cell_type": "markdown",
   "id": "e4aa80c7-0261-458d-b5a8-5c5dbb81e927",
   "metadata": {},
   "source": [
    "**Inference:**\n",
    "* In New York state startups we have some outliers present.\n",
    "*  In calofornia State we have maximum and minimum profit     \n",
    "    - i.e our most imp city"
   ]
  },
  {
   "cell_type": "markdown",
   "id": "25b4c805-4f76-4a33-9a2c-60fe69fdf326",
   "metadata": {},
   "source": [
    "**1.3 ]  Checking For Skew**"
   ]
  },
  {
   "cell_type": "code",
   "execution_count": 13,
   "id": "c4fed198-39e2-403f-abf6-0964d007b0ea",
   "metadata": {},
   "outputs": [
    {
     "name": "stdout",
     "output_type": "stream",
     "text": [
      "R&D Spend\n",
      "0.15904052321503395\n"
     ]
    },
    {
     "data": {
      "image/png": "[encoded data removed]",
      "text/plain": [
       "<Figure size 432x288 with 1 Axes>"
      ]
     },
     "metadata": {
      "needs_background": "light"
     },
     "output_type": "display_data"
    },
    {
     "name": "stdout",
     "output_type": "stream",
     "text": [
      "Administration\n",
      "-0.4742300698920047\n"
     ]
    },
    {
     "data": {
      "image/png": "[encoded data removed]",
      "text/plain": [
       "<Figure size 432x288 with 1 Axes>"
      ]
     },
     "metadata": {
      "needs_background": "light"
     },
     "output_type": "display_data"
    },
    {
     "name": "stdout",
     "output_type": "stream",
     "text": [
      "Marketing Spend\n",
      "-0.04506631617666136\n"
     ]
    },
    {
     "data": {
      "image/png": "[encoded data removed]",
      "text/plain": [
       "<Figure size 432x288 with 1 Axes>"
      ]
     },
     "metadata": {
      "needs_background": "light"
     },
     "output_type": "display_data"
    },
    {
     "name": "stdout",
     "output_type": "stream",
     "text": [
      "Profit\n",
      "0.02258638356958943\n"
     ]
    },
    {
     "data": {
      "image/png": "[encoded data removed]",
      "text/plain": [
       "<Figure size 432x288 with 1 Axes>"
      ]
     },
     "metadata": {
      "needs_background": "light"
     },
     "output_type": "display_data"
    }
   ],
   "source": [
    "#checking for skewness  :\n",
    "\n",
    "from scipy.stats import skew\n",
    "\n",
    "for i in data1:\n",
    "    print(i)\n",
    "    print(skew(data1[i]))\n",
    "    \n",
    "    sns.histplot(data1[i])\n",
    "    plt.title(\"Skewness Distribution\")\n",
    "    plt.show()"
   ]
  },
  {
   "cell_type": "markdown",
   "id": "b962515a-320b-4cd9-acfa-56382c3bd456",
   "metadata": {},
   "source": [
    "**Inference:-**\n",
    "\n",
    "* The average profit (which is 100k) is the most frequent\n",
    "\n",
    "* `R&D Spend`  and `Profit` skew acceptable or possitve skew *-\n",
    "\n",
    "\n",
    "* and for others we can't handle beacuse it distributed towards negative and positive.*-\n",
    "\n",
    "  i.e log(negative) returns `nan`  so it create an error in data-set."
   ]
  },
  {
   "cell_type": "markdown",
   "id": "36f716f9-e5b4-49f9-be05-929d8c5cd958",
   "metadata": {},
   "source": [
    "**`NOTE:-` It is not nessesary to check or handle the skew it's only give the genral idea about our prediction**"
   ]
  },
  {
   "cell_type": "markdown",
   "id": "7011c902-e37e-42b6-8b2f-cf0b4302fae9",
   "metadata": {},
   "source": [
    "**1.4 One-hot-coding:-**"
   ]
  },
  {
   "cell_type": "code",
   "execution_count": 14,
   "id": "b31f1558-4df1-4b00-b91c-563c7f6b1a57",
   "metadata": {},
   "outputs": [],
   "source": [
    "dummies=pd.get_dummies(data['State'],drop_first=True)"
   ]
  },
  {
   "cell_type": "code",
   "execution_count": 15,
   "id": "400238d2-fa7f-400b-a0a8-e4e5de7812c3",
   "metadata": {},
   "outputs": [],
   "source": [
    "df=data.drop(columns=['State'],axis=1)"
   ]
  },
  {
   "cell_type": "code",
   "execution_count": 16,
   "id": "7af64b6a-2f71-4ad4-9e78-e10b4cd0bbf4",
   "metadata": {},
   "outputs": [
    {
     "data": {
      "text/html": [
       "<div>\n",
       "<style scoped>\n",
       "    .dataframe tbody tr th:only-of-type {\n",
       "        vertical-align: middle;\n",
       "    }\n",
       "\n",
       "    .dataframe tbody tr th {\n",
       "        vertical-align: top;\n",
       "    }\n",
       "\n",
       "    .dataframe thead th {\n",
       "        text-align: right;\n",
       "    }\n",
       "</style>\n",
       "<table border=\"1\" class=\"dataframe\">\n",
       "  <thead>\n",
       "    <tr style=\"text-align: right;\">\n",
       "      <th></th>\n",
       "      <th>R&amp;D Spend</th>\n",
       "      <th>Administration</th>\n",
       "      <th>Marketing Spend</th>\n",
       "      <th>Profit</th>\n",
       "      <th>Florida</th>\n",
       "      <th>New York</th>\n",
       "    </tr>\n",
       "  </thead>\n",
       "  <tbody>\n",
       "    <tr>\n",
       "      <th>0</th>\n",
       "      <td>165349.2</td>\n",
       "      <td>136897.80</td>\n",
       "      <td>471784.10</td>\n",
       "      <td>192261.83</td>\n",
       "      <td>0</td>\n",
       "      <td>1</td>\n",
       "    </tr>\n",
       "    <tr>\n",
       "      <th>1</th>\n",
       "      <td>162597.7</td>\n",
       "      <td>151377.59</td>\n",
       "      <td>443898.53</td>\n",
       "      <td>191792.06</td>\n",
       "      <td>0</td>\n",
       "      <td>0</td>\n",
       "    </tr>\n",
       "  </tbody>\n",
       "</table>\n",
       "</div>"
      ],
      "text/plain": [
       "   R&D Spend  Administration  Marketing Spend     Profit  Florida  New York\n",
       "0   165349.2       136897.80        471784.10  192261.83        0         1\n",
       "1   162597.7       151377.59        443898.53  191792.06        0         0"
      ]
     },
     "execution_count": 16,
     "metadata": {},
     "output_type": "execute_result"
    }
   ],
   "source": [
    "data=pd.concat([df,dummies],axis=1)\n",
    "data.head(2)"
   ]
  },
  {
   "cell_type": "markdown",
   "id": "196c6401-3c33-408c-9f04-176380e4a085",
   "metadata": {},
   "source": [
    "## 2] Check For Which Regression  :"
   ]
  },
  {
   "cell_type": "markdown",
   "id": "9f21d792-3035-4467-828d-0da09515a95a",
   "metadata": {},
   "source": [
    "**2.1 ]  Plot pair plot**"
   ]
  },
  {
   "cell_type": "code",
   "execution_count": 17,
   "id": "f5d97bad-ed8a-4dba-832f-c99bfdead739",
   "metadata": {},
   "outputs": [
    {
     "data": {
      "text/plain": [
       "Index(['R&D Spend', 'Administration', 'Marketing Spend', 'Profit', 'Florida',\n",
       "       'New York'],\n",
       "      dtype='object')"
      ]
     },
     "execution_count": 17,
     "metadata": {},
     "output_type": "execute_result"
    }
   ],
   "source": [
    "data.columns"
   ]
  },
  {
   "cell_type": "code",
   "execution_count": 18,
   "id": "ce9c6f9c-8232-476e-aeb3-116b63601f90",
   "metadata": {},
   "outputs": [
    {
     "data": {
      "image/png": "[encoded data removed]",
      "text/plain": [
       "<Figure size 1800x360 with 3 Axes>"
      ]
     },
     "metadata": {
      "needs_background": "light"
     },
     "output_type": "display_data"
    }
   ],
   "source": [
    "#linearity  : linearity bet independent fetures  & dependent features \n",
    "#plot pairplot bet x and y :\n",
    "y=data['Profit']\n",
    "plt.figure(figsize=(25,5))\n",
    "plt.subplot(1,4,1)\n",
    "plt.scatter(x=data['R&D Spend'],y=y)\n",
    "plt.title(\"R&D Spend\")\n",
    "plt.subplot(1,4,2)\n",
    "plt.scatter(x=data['Administration'],y=y)\n",
    "plt.title('Administration')\n",
    "plt.subplot(1,4,3)\n",
    "plt.scatter(x=data['Marketing Spend'],y=y)\n",
    "plt.title('Marketing Spend')\n",
    "plt.show();\n"
   ]
  },
  {
   "cell_type": "markdown",
   "id": "436f5429-dd57-4d30-8e4e-ac97042a3a03",
   "metadata": {},
   "source": [
    "**`Inference:`** \n",
    "*  As we can see in the scatter plot, `R&D` are directly proportional to the investment or `profit`.\n",
    "* The `marketing spend` seems to be directly proportional (though a little bit outliers are there) with the profit.\n",
    "* There is no relationship between the `Administration` column and `profit`"
   ]
  },
  {
   "cell_type": "markdown",
   "id": "f907f959-082a-4d7b-8228-f83d1a0a468e",
   "metadata": {},
   "source": [
    "## 3] Model Selection  :"
   ]
  },
  {
   "cell_type": "markdown",
   "id": "b7994ca6-3a4d-48fe-bf1c-5b529d03afd7",
   "metadata": {},
   "source": [
    "### 1 st Model :"
   ]
  },
  {
   "cell_type": "markdown",
   "id": "6016db91-8be9-4f88-ae76-4df2b8f0df37",
   "metadata": {},
   "source": [
    "**1.1] Seletion of X and y Parameters**"
   ]
  },
  {
   "cell_type": "code",
   "execution_count": 19,
   "id": "71508f5d-73ac-4c36-a422-459e68b7353a",
   "metadata": {},
   "outputs": [],
   "source": [
    "# choose Independent and dependent parameters i.e X & y.\n",
    "X=data['R&D Spend'].values.reshape(-1,1)  \n",
    "y=data['Profit'].values"
   ]
  },
  {
   "cell_type": "code",
   "execution_count": 20,
   "id": "d7c09707-f1d9-47ac-8843-687acd531f5a",
   "metadata": {},
   "outputs": [
    {
     "data": {
      "text/plain": [
       "Text(0, 0.5, \"Average 'Profit\")"
      ]
     },
     "execution_count": 20,
     "metadata": {},
     "output_type": "execute_result"
    },
    {
     "data": {
      "image/png": "[encoded data removed]",
      "text/plain": [
       "<Figure size 648x576 with 1 Axes>"
      ]
     },
     "metadata": {
      "needs_background": "light"
     },
     "output_type": "display_data"
    }
   ],
   "source": [
    "#regression plot:\n",
    "#Plot data and a linear regression model fit.\n",
    "plt.figure(figsize=(9,8))\n",
    "sns.regplot(x=X,y=y,scatter_kws={\"color\": \"black\"}, line_kws={\"color\": \"red\"})\n",
    "plt.xlabel(\"R&D Spend \")\n",
    "plt.ylabel(\"Average 'Profit\")"
   ]
  },
  {
   "cell_type": "markdown",
   "id": "6022cd06-5638-4dcf-8bab-59f885b128cf",
   "metadata": {},
   "source": [
    "`Inferences:-`\n",
    "* All the data points are near to the fit line  & little bit outliers presence.. "
   ]
  },
  {
   "cell_type": "markdown",
   "id": "08e2795f-231a-4422-a887-e0e101f52427",
   "metadata": {},
   "source": [
    "**`NOTE`**\n",
    "**Regression plots as the name suggests creates a regression line between 2 parameters and helps to visualize their linear relationships.**-- "
   ]
  },
  {
   "cell_type": "code",
   "execution_count": 21,
   "id": "adb11126-eb72-4a95-97af-a460eae738ec",
   "metadata": {},
   "outputs": [
    {
     "name": "stdout",
     "output_type": "stream",
     "text": [
      "X_train\n",
      ": [[130298.13]\n",
      " [119943.24]\n",
      " [  1000.23]\n",
      " [   542.05]\n",
      " [ 65605.48]]\n",
      "X_test\n",
      ": [[ 66051.52]\n",
      " [100671.96]\n",
      " [101913.08]\n",
      " [ 27892.92]\n",
      " [153441.51]]\n",
      "y_train\n",
      ": [155752.6  132602.65  64926.08  35673.41 101004.64]\n",
      "y_test\n",
      ": [103282.38 144259.4  146121.95  77798.83 191050.39]\n"
     ]
    }
   ],
   "source": [
    "#split data in train and test :\n",
    "\n",
    "from sklearn.model_selection import train_test_split\n",
    "\n",
    "X_train , X_test , y_train ,y_test =train_test_split(X,y ,test_size=0.3 ,random_state=0)\n",
    "print(\"X_train\\n:\",X_train[:5])\n",
    "print(\"X_test\\n:\",X_test[:5])\n",
    "print(\"y_train\\n:\",y_train[:5])\n",
    "print(\"y_test\\n:\",y_test[:5])"
   ]
  },
  {
   "cell_type": "code",
   "execution_count": 22,
   "id": "f1209129-b72a-4048-8a50-f2ffc698a5d3",
   "metadata": {},
   "outputs": [],
   "source": [
    "# import model\n",
    "from sklearn.linear_model  import LinearRegression\n",
    "#instantiate the model\n",
    "model=LinearRegression()"
   ]
  },
  {
   "cell_type": "code",
   "execution_count": 23,
   "id": "0fefa05c-8856-4c58-ae75-bfc5a12afe5d",
   "metadata": {},
   "outputs": [],
   "source": [
    "#fit the model  :\n",
    "result=model.fit(X_train,y_train)"
   ]
  },
  {
   "cell_type": "markdown",
   "id": "2ebb31ea-0767-48bc-bff4-fe1fdb6dea2c",
   "metadata": {},
   "source": [
    "### 2] Check Regression Assumption\n",
    "\n",
    "**2.1] homoskedacity** : varriance is kept constant\n",
    "\n"
   ]
  },
  {
   "cell_type": "code",
   "execution_count": 24,
   "id": "bfecec03-3f4e-4cf2-ae66-a6232815b988",
   "metadata": {},
   "outputs": [
    {
     "data": {
      "image/png": "[encoded data removed]",
      "text/plain": [
       "<Figure size 576x396 with 2 Axes>"
      ]
     },
     "metadata": {},
     "output_type": "display_data"
    }
   ],
   "source": [
    "from yellowbrick.regressor import ResidualsPlot\n",
    "residuals =ResidualsPlot(model)\n",
    "residuals .fit(X_train,y_train)\n",
    "residuals .score(X_test,y_test)\n",
    "\n",
    "plt.legend(loc='upper left')\n",
    "residuals .show();"
   ]
  },
  {
   "cell_type": "markdown",
   "id": "eaf09be2-7e0a-4811-acfe-49f9c00d6706",
   "metadata": {},
   "source": [
    "**`Inferences:`**\n",
    "   \n",
    "* from Predicted  vs Residuals plot we dont see any type of pattern in error terms .  i.e  our varrince is constant at all the error points."
   ]
  },
  {
   "cell_type": "markdown",
   "id": "304030b9-a0b1-4136-8cb7-7ace02ffae99",
   "metadata": {},
   "source": [
    "**2.2] Normal-distribution :** error terms are normally distributes that is error terms should follow  the bell curve*- "
   ]
  },
  {
   "cell_type": "code",
   "execution_count": 25,
   "id": "a7d8d5a3-f8a7-44b1-87c8-203c1d07e392",
   "metadata": {},
   "outputs": [
    {
     "data": {
      "image/png": "[encoded data removed]",
      "text/plain": [
       "<Figure size 576x396 with 2 Axes>"
      ]
     },
     "metadata": {},
     "output_type": "display_data"
    }
   ],
   "source": [
    "plot_visuals=ResidualsPlot(model, hist=False , qqplot=True)\n",
    "plot_visuals.fit(X_train,y_train)\n",
    "plot_visuals.score(X_test,y_test) \n",
    "plot_visuals.show();"
   ]
  },
  {
   "cell_type": "markdown",
   "id": "04ee4a9e-58f3-48c8-bab3-83974b788f81",
   "metadata": {},
   "source": [
    "**2.3] Multi-colinearity :** Multicollinearity exists whenever an independent variable is highly correlated with one or more of the other independent variables in a multiple regression equation."
   ]
  },
  {
   "cell_type": "code",
   "execution_count": 26,
   "id": "32008d9c-5393-4c2a-baf9-1dcef74ccf13",
   "metadata": {},
   "outputs": [
    {
     "data": {
      "text/plain": [
       "{}"
      ]
     },
     "execution_count": 26,
     "metadata": {},
     "output_type": "execute_result"
    }
   ],
   "source": [
    "from statsmodels.stats.outliers_influence import variance_inflation_factor\n",
    "{X.columns[i]: variance_inflation_factor(X.values, i) for i in range(1, X.shape[1])}"
   ]
  },
  {
   "cell_type": "markdown",
   "id": "c70b51e1-f505-44c8-bc17-db2407a8dba1",
   "metadata": {},
   "source": [
    "**`Infernces`**\n",
    "* A VIF of 1 is the best you can have as this indicates that there is no multicollinearity for this variable."
   ]
  },
  {
   "cell_type": "code",
   "execution_count": 27,
   "id": "8e6f8249-7509-4188-b21f-dd886b05f153",
   "metadata": {},
   "outputs": [
    {
     "name": "stdout",
     "output_type": "stream",
     "text": [
      "The_intercept: 47660.72926968253\n",
      "The_coef: [0.85821736]\n"
     ]
    }
   ],
   "source": [
    "print(\"The_intercept:\",model.intercept_)\n",
    "coef=model.coef_\n",
    "print(\"The_coef:\",model.coef_)\n",
    "\n"
   ]
  },
  {
   "cell_type": "code",
   "execution_count": 28,
   "id": "9fc2d7c9-54d6-4074-9c30-ff79b82b7092",
   "metadata": {},
   "outputs": [
    {
     "name": "stdout",
     "output_type": "stream",
     "text": [
      "The my best fit line Equation is: [0.85821736] *'R&D Spend'  +  47660.72926968253\n"
     ]
    }
   ],
   "source": [
    "print(\"The my best fit line Equation is: {} *'R&D Spend'  +  {}\".format(model.coef_ ,model.intercept_))"
   ]
  },
  {
   "cell_type": "code",
   "execution_count": 29,
   "id": "35a587e4-6347-4b6c-9a55-50117a0c04e7",
   "metadata": {},
   "outputs": [
    {
     "data": {
      "image/png": "[encoded data removed]",
      "text/plain": [
       "<Figure size 576x396 with 1 Axes>"
      ]
     },
     "metadata": {},
     "output_type": "display_data"
    }
   ],
   "source": [
    "#how our data look like with the value of intercept and coefficient.\n",
    "plt.scatter(X_train, y_train)\n",
    "plt.plot(X_train, 47660.72+ 0.85821*X_train, 'g',)\n",
    "plt.show()"
   ]
  },
  {
   "cell_type": "markdown",
   "id": "282f0a19-b6aa-4854-b2d7-1e38983d4f40",
   "metadata": {},
   "source": [
    "**`Infernces:-`**\n",
    "* Model intercept tells that when our x value is zero then value of y  \n",
    "*  Or In our data when the R&D spend is euals to zero then our Price is 48749.98  \n",
    "* also known as the intersection point of best fit line with Y- axis-\n",
    "\n"
   ]
  },
  {
   "cell_type": "markdown",
   "id": "b9af028c-4976-4ef5-afc9-8547ca8e67fa",
   "metadata": {},
   "source": [
    "`NOTE:- This is not happen in real condition but it used for the understanding.` "
   ]
  },
  {
   "cell_type": "code",
   "execution_count": 30,
   "id": "bbc5423b-c5dd-4adb-a05a-4e08794276b4",
   "metadata": {},
   "outputs": [],
   "source": [
    "#predict the values:\n",
    "y_train_pred=model.predict(X_train)\n",
    "y_test_pred=model.predict(X_test)"
   ]
  },
  {
   "cell_type": "code",
   "execution_count": 31,
   "id": "9ea64802-0e12-4d33-9864-cb67402abc10",
   "metadata": {},
   "outputs": [
    {
     "data": {
      "text/html": [
       "<div>\n",
       "<style scoped>\n",
       "    .dataframe tbody tr th:only-of-type {\n",
       "        vertical-align: middle;\n",
       "    }\n",
       "\n",
       "    .dataframe tbody tr th {\n",
       "        vertical-align: top;\n",
       "    }\n",
       "\n",
       "    .dataframe thead th {\n",
       "        text-align: right;\n",
       "    }\n",
       "</style>\n",
       "<table border=\"1\" class=\"dataframe\">\n",
       "  <thead>\n",
       "    <tr style=\"text-align: right;\">\n",
       "      <th></th>\n",
       "      <th>Predicted value</th>\n",
       "      <th>Actual Value</th>\n",
       "    </tr>\n",
       "  </thead>\n",
       "  <tbody>\n",
       "    <tr>\n",
       "      <th>0</th>\n",
       "      <td>103282.38</td>\n",
       "      <td>104347.290548</td>\n",
       "    </tr>\n",
       "    <tr>\n",
       "      <th>1</th>\n",
       "      <td>144259.40</td>\n",
       "      <td>134059.153251</td>\n",
       "    </tr>\n",
       "    <tr>\n",
       "      <th>2</th>\n",
       "      <td>146121.95</td>\n",
       "      <td>135124.303984</td>\n",
       "    </tr>\n",
       "    <tr>\n",
       "      <th>3</th>\n",
       "      <td>77798.83</td>\n",
       "      <td>71598.917502</td>\n",
       "    </tr>\n",
       "    <tr>\n",
       "      <th>4</th>\n",
       "      <td>191050.39</td>\n",
       "      <td>179346.897268</td>\n",
       "    </tr>\n",
       "    <tr>\n",
       "      <th>5</th>\n",
       "      <td>105008.31</td>\n",
       "      <td>109544.723552</td>\n",
       "    </tr>\n",
       "    <tr>\n",
       "      <th>6</th>\n",
       "      <td>81229.06</td>\n",
       "      <td>65022.114642</td>\n",
       "    </tr>\n",
       "    <tr>\n",
       "      <th>7</th>\n",
       "      <td>97483.56</td>\n",
       "      <td>100129.032061</td>\n",
       "    </tr>\n",
       "    <tr>\n",
       "      <th>8</th>\n",
       "      <td>110352.25</td>\n",
       "      <td>111164.145387</td>\n",
       "    </tr>\n",
       "    <tr>\n",
       "      <th>9</th>\n",
       "      <td>166187.94</td>\n",
       "      <td>169619.715786</td>\n",
       "    </tr>\n",
       "    <tr>\n",
       "      <th>10</th>\n",
       "      <td>96778.92</td>\n",
       "      <td>95286.600669</td>\n",
       "    </tr>\n",
       "    <tr>\n",
       "      <th>11</th>\n",
       "      <td>96479.51</td>\n",
       "      <td>87150.760149</td>\n",
       "    </tr>\n",
       "    <tr>\n",
       "      <th>12</th>\n",
       "      <td>105733.54</td>\n",
       "      <td>112309.273395</td>\n",
       "    </tr>\n",
       "    <tr>\n",
       "      <th>13</th>\n",
       "      <td>96712.80</td>\n",
       "      <td>87504.388613</td>\n",
       "    </tr>\n",
       "    <tr>\n",
       "      <th>14</th>\n",
       "      <td>124266.90</td>\n",
       "      <td>126401.451369</td>\n",
       "    </tr>\n",
       "  </tbody>\n",
       "</table>\n",
       "</div>"
      ],
      "text/plain": [
       "    Predicted value   Actual Value\n",
       "0         103282.38  104347.290548\n",
       "1         144259.40  134059.153251\n",
       "2         146121.95  135124.303984\n",
       "3          77798.83   71598.917502\n",
       "4         191050.39  179346.897268\n",
       "5         105008.31  109544.723552\n",
       "6          81229.06   65022.114642\n",
       "7          97483.56  100129.032061\n",
       "8         110352.25  111164.145387\n",
       "9         166187.94  169619.715786\n",
       "10         96778.92   95286.600669\n",
       "11         96479.51   87150.760149\n",
       "12        105733.54  112309.273395\n",
       "13         96712.80   87504.388613\n",
       "14        124266.90  126401.451369"
      ]
     },
     "execution_count": 31,
     "metadata": {},
     "output_type": "execute_result"
    }
   ],
   "source": [
    "df = pd.DataFrame(data={'Predicted value':y_test.flatten(),'Actual Value':y_test_pred.flatten()})\n",
    "df\n",
    "\n"
   ]
  },
  {
   "cell_type": "markdown",
   "id": "4b7126ff-b49d-4aab-86a2-753e581d19f0",
   "metadata": {},
   "source": [
    "**`Inference`**\n",
    "* So for this model our Predicted value & Actual Values have a small difference"
   ]
  },
  {
   "cell_type": "markdown",
   "id": "68cdc4e5-1e9c-484b-ba89-76b382db17fa",
   "metadata": {},
   "source": [
    "`NOTE:- FLATTEN() Two-dimensional, size-mutable, potentially heterogeneous tabular data.`"
   ]
  },
  {
   "cell_type": "code",
   "execution_count": 32,
   "id": "95cf6a08-c28d-43bb-83c9-cec65c794efc",
   "metadata": {},
   "outputs": [
    {
     "data": {
      "text/plain": [
       "array([48948.05531332])"
      ]
     },
     "execution_count": 32,
     "metadata": {},
     "output_type": "execute_result"
    }
   ],
   "source": [
    "#pridict for any value:\n",
    "model.predict([[1500]])"
   ]
  },
  {
   "cell_type": "code",
   "execution_count": 33,
   "id": "86fcd331-bfa6-49ba-8ed4-a6a152fa5465",
   "metadata": {},
   "outputs": [
    {
     "data": {
      "text/plain": [
       "array([51569.90935552])"
      ]
     },
     "execution_count": 33,
     "metadata": {},
     "output_type": "execute_result"
    }
   ],
   "source": [
    "model.predict([[4555]])"
   ]
  },
  {
   "cell_type": "markdown",
   "id": "dd1312b3-f9f5-42a0-9f78-8c640dc95ee5",
   "metadata": {},
   "source": [
    "#### 3] Performance Major  :\n",
    "___Evaluation metrics are used to measure the quality of the statistical or machine learning model."
   ]
  },
  {
   "cell_type": "markdown",
   "id": "1dc3b3b7-0c48-4d4a-8561-8bcfdb6a67c8",
   "metadata": {},
   "source": [
    "**3.1] Mean Squared Error**"
   ]
  },
  {
   "cell_type": "code",
   "execution_count": 34,
   "id": "0bb55913-e80b-4ecc-b823-8fff634b6e69",
   "metadata": {},
   "outputs": [
    {
     "name": "stdout",
     "output_type": "stream",
     "text": [
      "Mean_squared_error\n",
      "For_train : 96862665.12664771\n",
      "For_test: 61737390.72238975\n"
     ]
    }
   ],
   "source": [
    "from sklearn.metrics import *\n",
    "print(\"Mean_squared_error\")\n",
    "print(\"For_train :\",mean_squared_error(y_train,y_train_pred))\n",
    "print(\"For_test:\",mean_squared_error(y_test,y_test_pred))\n",
    "      \n"
   ]
  },
  {
   "cell_type": "markdown",
   "id": "80a97fa4-4f8f-4534-8eb9-73a4994e6da7",
   "metadata": {},
   "source": [
    "**3.2] Mean_absolute_error**"
   ]
  },
  {
   "cell_type": "code",
   "execution_count": 35,
   "id": "122f7260-1b67-4d43-86e5-be6a9b821944",
   "metadata": {},
   "outputs": [
    {
     "name": "stdout",
     "output_type": "stream",
     "text": [
      "Mean_absolute_error\n",
      "For_train : 7163.84551116861\n",
      "For_test: 6435.898401389121\n"
     ]
    }
   ],
   "source": [
    "print(\"Mean_absolute_error\")      \n",
    "print(\"For_train :\",mean_absolute_error(y_train,y_train_pred))\n",
    "print(\"For_test:\",mean_absolute_error(y_test,y_test_pred))"
   ]
  },
  {
   "cell_type": "markdown",
   "id": "a15463dc-3ed0-4bd5-97ad-e698612427bc",
   "metadata": {},
   "source": [
    "**3.3] r2_score**"
   ]
  },
  {
   "cell_type": "code",
   "execution_count": 36,
   "id": "671d058f-0704-48e3-ac6a-5d96682533fb",
   "metadata": {},
   "outputs": [
    {
     "name": "stdout",
     "output_type": "stream",
     "text": [
      "The r2_score for train : 0.9476445670285694\n",
      "The r2_score for test : 0.9360398184741837\n"
     ]
    }
   ],
   "source": [
    "from sklearn.metrics import *\n",
    "Train_score_single=r2_score(y_train,y_train_pred)\n",
    "\n",
    "Test_score_single=r2_score(y_test,y_test_pred)\n",
    "print(\"The r2_score for train :\",Train_score_single)\n",
    "      \n",
    "print(\"The r2_score for test :\",Test_score_single)"
   ]
  },
  {
   "cell_type": "markdown",
   "id": "340af9a7-090a-4458-b386-d0d4b2d34719",
   "metadata": {},
   "source": [
    "##### `Conclusion:` 93.60 % of the data fit the regression model "
   ]
  },
  {
   "cell_type": "markdown",
   "id": "e17c73f6-affa-4004-8b38-27c422cb39b9",
   "metadata": {},
   "source": [
    "### 4]  cross validation  :"
   ]
  },
  {
   "cell_type": "markdown",
   "id": "9063b870-1d31-43a1-8b30-bf129c5eb926",
   "metadata": {},
   "source": [
    "**4.1] For test &  Train Values Normal** "
   ]
  },
  {
   "cell_type": "code",
   "execution_count": 37,
   "id": "2386af59-880e-4d18-8f4a-a80882ab05f1",
   "metadata": {},
   "outputs": [
    {
     "name": "stdout",
     "output_type": "stream",
     "text": [
      "Train_score: [0.98443882 0.93699988 0.93019195 0.83124428 0.91644702]\n",
      "accuracy_fold_train: 0.9198643891933191\n",
      "Test_score \n",
      " : [0.94459253 0.97640312 0.92150781 0.84348359 0.78579045]\n",
      "accuracy_fold_test: 0.8943555011156465\n"
     ]
    }
   ],
   "source": [
    "from sklearn.model_selection import KFold\n",
    "from sklearn.model_selection import cross_val_score\n",
    "model=LinearRegression()\n",
    "fold=KFold(n_splits=5,shuffle=True, random_state=2)\n",
    "train_scores=cross_val_score(model,X_train,y_train,scoring='r2',cv=fold)\n",
    "print(\"Train_score:\",train_scores)\n",
    "\n",
    "accuracy_fold_train_s=np.mean(abs(train_scores))\n",
    "print(\"accuracy_fold_train:\",accuracy_fold_train_s)\n",
    "\n",
    "test_scores=cross_val_score(model,X_test,y_test,scoring='r2',cv=fold)\n",
    "print(\"Test_score \\n :\",test_scores)\n",
    "\n",
    "accuracy_fold_test_s=np.mean(abs(test_scores))\n",
    "print(\"accuracy_fold_test:\",accuracy_fold_test_s)"
   ]
  },
  {
   "cell_type": "markdown",
   "id": "fb751897-59ea-4928-a318-c9e9ef5ef840",
   "metadata": {},
   "source": [
    "**`Inferences`**\n",
    "* We have good CV results with our model "
   ]
  },
  {
   "cell_type": "code",
   "execution_count": 38,
   "id": "b3593539-fc87-48e3-af94-5a60c4e090db",
   "metadata": {},
   "outputs": [
    {
     "name": "stdout",
     "output_type": "stream",
     "text": [
      "mean_sq_scores: [-2.04725842e+07 -1.10869864e+08 -8.43713717e+07 -1.00282417e+08\n",
      " -2.67546203e+08]\n"
     ]
    },
    {
     "data": {
      "text/plain": [
       "116708488.04420693"
      ]
     },
     "execution_count": 38,
     "metadata": {},
     "output_type": "execute_result"
    }
   ],
   "source": [
    "mean_sq_scores=cross_val_score(model,X_train,y_train,scoring='neg_mean_squared_error',cv=fold)\n",
    "print(\"mean_sq_scores:\",mean_sq_scores)\n",
    "accuracy_fold_mean=np.mean(abs(mean_sq_scores))\n",
    "accuracy_fold_mean"
   ]
  },
  {
   "cell_type": "markdown",
   "id": "3ee12053-2bdf-4106-badb-3bad9eebc393",
   "metadata": {},
   "source": [
    "`NOTE:-  There is no need of regulariztion in this codition where our model is good at test and train ,but only for practice of regularization we use Regulrization . ` "
   ]
  },
  {
   "cell_type": "markdown",
   "id": "7e73c876-a909-4442-b0aa-876a8f34a7bc",
   "metadata": {},
   "source": [
    "### 5] Regularization :"
   ]
  },
  {
   "cell_type": "markdown",
   "id": "11e898d4-f54d-4bd1-ab28-164e03d0471b",
   "metadata": {},
   "source": [
    "**5.1] Reqularization with Lassso**"
   ]
  },
  {
   "cell_type": "markdown",
   "id": "95e6843b-f774-4b2d-b627-b5f978f922e8",
   "metadata": {},
   "source": [
    "The optimization objective for Lasso is::\n",
    "\n",
    "    (1 / (2 * n_samples)) * ||y - Xw||^2_2 + alpha * ||w||_1"
   ]
  },
  {
   "cell_type": "code",
   "execution_count": 39,
   "id": "f45db58b-38bc-49c7-9a4c-42ee32e0b908",
   "metadata": {},
   "outputs": [
    {
     "name": "stdout",
     "output_type": "stream",
     "text": [
      "Lasso Regularization Method\n",
      "lasso_train_score\n",
      "0.9476445670285688 \n",
      "lasso_test_score\n",
      " 0.9360398195213077 \n"
     ]
    }
   ],
   "source": [
    "from sklearn import linear_model\n",
    "\n",
    "l1=linear_model.Lasso(alpha=50,max_iter=200,tol=0.1)\n",
    "l1.fit(X_train,y_train)\n",
    "\n",
    "Lasso_test_s=l1.score(X_test,y_test)\n",
    "Lasso_train_s=l1.score(X_train,y_train)\n",
    "\n",
    "print(\"Lasso Regularization Method\")\n",
    "\n",
    "print(\"lasso_train_score\\n{} \".format(Lasso_train_s))\n",
    "print(\"lasso_test_score\\n {} \".format(Lasso_test_s))"
   ]
  },
  {
   "cell_type": "markdown",
   "id": "bb83af71-befd-468a-a692-04d9b2264701",
   "metadata": {},
   "source": [
    "**5.1.1] CV with Lassso**"
   ]
  },
  {
   "cell_type": "markdown",
   "id": "6dd76782-433f-40e7-bd4f-06b37508279b",
   "metadata": {},
   "source": [
    "**K-Folds cross-validator**\n",
    "\n",
    "* Provides train/test indices to split data in train/test sets. Split\n",
    "dataset into k consecutive folds (without shuffling by default).\n",
    "\n",
    "* Each fold is then used once as a validation while the k - 1 remaining\n",
    "folds form the training set.\n"
   ]
  },
  {
   "cell_type": "code",
   "execution_count": 40,
   "id": "025bd0e1-646a-455a-a5ab-232c0abd7cab",
   "metadata": {},
   "outputs": [
    {
     "name": "stdout",
     "output_type": "stream",
     "text": [
      "Train_score \n",
      ": [0.92849077 0.82056965 0.9794413  0.96638225 0.93303419]\n",
      "  accuracy_fold_train \n",
      ": 0.925583632884112\n",
      "Test_score \n",
      ": [0.92849077 0.82056965 0.9794413  0.96638225 0.93303419]\n",
      "accuracy_fold_test \n",
      " : 0.8932355501541034\n"
     ]
    }
   ],
   "source": [
    "from sklearn.model_selection import KFold\n",
    "from sklearn.model_selection import cross_val_score\n",
    "\n",
    "fold=KFold(n_splits=5,shuffle=True, random_state=10)\n",
    "train_scores=cross_val_score(l1,X_train,y_train,scoring='r2',cv=fold)\n",
    "print(\"Train_score \\n:\",train_scores )\n",
    "\n",
    "Lasso_cv_train=np.mean(abs(train_scores))\n",
    "print(\"  accuracy_fold_train \\n:\",Lasso_cv_train)\n",
    "\n",
    "test_scores=cross_val_score(l1,X_test,y_test,scoring='r2',cv=fold)\n",
    "print(\"Test_score \\n:\",train_scores )\n",
    "\n",
    "\n",
    "Lasso_cv_test=np.mean(abs(test_scores))\n",
    "print(\"accuracy_fold_test \\n :\",Lasso_cv_test)"
   ]
  },
  {
   "cell_type": "markdown",
   "id": "cbfcce77-fda1-4d8a-9af9-34c7214c35a4",
   "metadata": {},
   "source": [
    "**5.2] Reqularization with Ridge**"
   ]
  },
  {
   "cell_type": "code",
   "execution_count": 41,
   "id": "739354ab-a636-4bbf-9974-50bfbbc6eac5",
   "metadata": {},
   "outputs": [
    {
     "name": "stdout",
     "output_type": "stream",
     "text": [
      "Ridge Regularization Method\n",
      "Ridge_train_score\n",
      "0.9476445670285694 \n",
      "Ridge_test_score\n",
      " 0.9360398184998597 \n"
     ]
    }
   ],
   "source": [
    "from sklearn import linear_model\n",
    "\n",
    "l2=linear_model.Ridge(alpha=50,max_iter=200,tol=0.3)\n",
    "l2.fit(X_train,y_train)\n",
    "\n",
    "test_score_L2=l2.score(X_test,y_test)\n",
    "train_score_L2=l2.score(X_train,y_train)\n",
    "\n",
    "print(\"Ridge Regularization Method\")\n",
    "\n",
    "print(\"Ridge_train_score\\n{} \".format(train_score_L2))\n",
    "print(\"Ridge_test_score\\n {} \".format(test_score_L2))"
   ]
  },
  {
   "cell_type": "markdown",
   "id": "264a5733-4435-4477-b4d0-0397e3658097",
   "metadata": {},
   "source": [
    "**5.2.1] CV with Ridge**"
   ]
  },
  {
   "cell_type": "code",
   "execution_count": 42,
   "id": "3924d164-71fc-4aef-b5c6-1e5ed855e94c",
   "metadata": {},
   "outputs": [
    {
     "name": "stdout",
     "output_type": "stream",
     "text": [
      "Train_score \n",
      ": [0.98443882 0.93699988 0.93019195 0.83124428 0.91644702]\n",
      "  accuracy_fold_train \n",
      ": 0.9198643893254609\n",
      "Test_score \n",
      ": [0.94459253 0.97640312 0.92150781 0.84348359 0.78579045]\n",
      "accuracy_fold_test \n",
      " : 0.8943555016425266\n"
     ]
    }
   ],
   "source": [
    "from sklearn.model_selection import KFold\n",
    "from sklearn.model_selection import cross_val_score\n",
    "fold=KFold(n_splits=5,shuffle=True, random_state=2)\n",
    "train_scores=cross_val_score(l2,X_train,y_train,scoring='r2',cv=fold)\n",
    "print(\"Train_score \\n:\",train_scores )\n",
    "\n",
    "Ridge_cv_train=np.mean(abs(train_scores))\n",
    "print(\"  accuracy_fold_train \\n:\",Ridge_cv_train)\n",
    "\n",
    "test_scores=cross_val_score(l2,X_test,y_test,scoring='r2',cv=fold)\n",
    "print(\"Test_score \\n:\",test_scores )\n",
    "\n",
    "\n",
    "Ridge_cv_test=np.mean(abs(test_scores))\n",
    "print(\"accuracy_fold_test \\n :\",Ridge_cv_test)"
   ]
  },
  {
   "cell_type": "markdown",
   "id": "b3d1e57e-5ba6-45e8-8104-8f63559558b9",
   "metadata": {},
   "source": [
    "**5.3] Reqularization with Els**"
   ]
  },
  {
   "cell_type": "code",
   "execution_count": 43,
   "id": "ab487634-58ba-4f43-ad3c-9bd872228573",
   "metadata": {},
   "outputs": [
    {
     "name": "stdout",
     "output_type": "stream",
     "text": [
      "ElasticNet(alpha=50, max_iter=200, tol=0.3)\n",
      "For_train: 0.9476445670285688\n",
      "For_test: 0.9360398194470757\n"
     ]
    }
   ],
   "source": [
    "from sklearn.linear_model import ElasticNet\n",
    "l3= ElasticNet(alpha =50,max_iter=200,tol=0.3)\n",
    "print(l3.fit(X_train, y_train))\n",
    "\n",
    "Els_train_s=l3.score(X_train,y_train)\n",
    "Els_test_s=l3.score(X_test,y_test)\n",
    "print(\"For_train:\",Els_train_s)\n",
    "print(\"For_test:\",Els_test_s)"
   ]
  },
  {
   "cell_type": "markdown",
   "id": "e262f7ea-e4bf-4df3-9477-6bd0aabbaf63",
   "metadata": {},
   "source": [
    "**5.3.1] CV with Els**"
   ]
  },
  {
   "cell_type": "code",
   "execution_count": 44,
   "id": "a939800e-0e59-41e6-85c0-ef3697b33190",
   "metadata": {},
   "outputs": [
    {
     "name": "stdout",
     "output_type": "stream",
     "text": [
      "Train_score: [0.92849077 0.82056965 0.97944131 0.96638226 0.93303419]\n",
      "K_fold_Train_score: 0.9255836329092493\n",
      "Test_score: [ 0.52063647  0.8673423  -1.26139868  0.8708093   0.94599101]\n",
      "K_fold_test_score: 0.8932355518534136\n"
     ]
    }
   ],
   "source": [
    "from sklearn.model_selection import KFold\n",
    "from sklearn.model_selection import cross_val_score\n",
    "\n",
    "fold=KFold(n_splits=5,shuffle=True, random_state=10)\n",
    "train_score=cross_val_score(l3,X_train,y_train,cv=fold)\n",
    "print(\"Train_score:\",train_score)\n",
    "\n",
    "Els_cv_train=np.mean(abs(train_score))\n",
    "print(\"K_fold_Train_score:\",Els_cv_train)\n",
    "\n",
    "test_score=cross_val_score(l3,X_test,y_test,cv=fold)\n",
    "print(\"Test_score:\",test_score)\n",
    "\n",
    "Els_cv_test=np.mean(abs(test_score))\n",
    "print(\"K_fold_test_score:\",Els_cv_test)"
   ]
  },
  {
   "cell_type": "markdown",
   "id": "51ee0fff-9c6d-4699-9021-b71c069a567b",
   "metadata": {},
   "source": [
    "`**COMPARISION PLOT:-**`"
   ]
  },
  {
   "cell_type": "code",
   "execution_count": 45,
   "id": "809f3e8d-d3a9-438f-8f4d-f65da8959e46",
   "metadata": {},
   "outputs": [],
   "source": [
    "#fit model\n",
    "model.fit(X_train,y_train)\n",
    "#get prediction for our model\n",
    "y_test_pred=model.predict(X_test)\n",
    "\n",
    "#get prediction for lasso\n",
    "y_test_pred_lasso=l1.predict(X_test)\n",
    "#get prediction for Ridge\n",
    "y_test_pred_ridg=l2.predict(X_test)\n",
    "#get prediction for els\n",
    "y_test_pred_els=l3.predict(X_test)"
   ]
  },
  {
   "cell_type": "code",
   "execution_count": 46,
   "id": "84e5874b-0cf7-442a-93c3-eaa4b1911fec",
   "metadata": {},
   "outputs": [
    {
     "data": {
      "text/plain": [
       "Text(0.5, 1.0, 'Elasicnet')"
      ]
     },
     "execution_count": 46,
     "metadata": {},
     "output_type": "execute_result"
    },
    {
     "data": {
      "image/png": "[encoded data removed]",
      "text/plain": [
       "<Figure size 1152x576 with 4 Axes>"
      ]
     },
     "metadata": {},
     "output_type": "display_data"
    }
   ],
   "source": [
    "fig, axs = plt.subplots(ncols=2,nrows=2)\n",
    "fig.set_figheight(8)\n",
    "fig.set_figwidth(16)\n",
    "fig.subplots_adjust(hspace=0.35)\n",
    "sns.regplot(x=y_test,y=y_test_pred,ax=axs[0,0],line_kws={\"color\":\"black\"})\n",
    "axs[0, 0].set_title('LineerRegresion')\n",
    "\n",
    "sns.regplot(x=y_test,y=y_test_pred_lasso,color=\"black\",ax=axs[0,1],line_kws={\"color\":\"red\"})\n",
    "axs[0,1].set_title('Lasso')\n",
    "sns.regplot(x=y_test,y=y_test_pred_ridg,color=\"red\",ax=axs[1,0],line_kws={\"color\":\"black\"})\n",
    "axs[1, 0].set_title('Ridge')\n",
    "sns.regplot(x=y_test,y=y_test_pred_els,color=\"purple\",ax=axs[1,1],line_kws={\"color\":\"black\"})\n",
    "axs[1, 1].set_title('Elasicnet')"
   ]
  },
  {
   "cell_type": "markdown",
   "id": "196a322f-66a6-4e92-a4cd-1c81a78b15a0",
   "metadata": {},
   "source": [
    "## **2] Multiple Regression :**\n",
    "* when we have a multiple Independent parameters and one dependent parameters then we use Multiple Regression ."
   ]
  },
  {
   "cell_type": "code",
   "execution_count": 47,
   "id": "c6cd27bc-cdb7-40fe-99ab-b06917c19ed4",
   "metadata": {},
   "outputs": [
    {
     "data": {
      "text/plain": [
       "Index(['R&D Spend', 'Administration', 'Marketing Spend', 'Profit', 'Florida',\n",
       "       'New York'],\n",
       "      dtype='object')"
      ]
     },
     "execution_count": 47,
     "metadata": {},
     "output_type": "execute_result"
    }
   ],
   "source": [
    "data.columns"
   ]
  },
  {
   "cell_type": "code",
   "execution_count": 48,
   "id": "8b2961d8-a114-4e22-9fbf-ae7ce61f5376",
   "metadata": {},
   "outputs": [],
   "source": [
    "#Here we only select the required parameters with high corr values \n",
    "# we drop state dummies and Administarion for simplifiction purose\n",
    "data1=data[['R&D Spend', 'Marketing Spend', 'Profit',\n",
    "       ]]"
   ]
  },
  {
   "cell_type": "markdown",
   "id": "50c8f3e7-f154-4a35-9987-db3c9106f965",
   "metadata": {},
   "source": [
    "* Check Relation :"
   ]
  },
  {
   "cell_type": "code",
   "execution_count": 49,
   "id": "73eade58-23bd-4e5f-aa54-1cf4fd19c52b",
   "metadata": {},
   "outputs": [
    {
     "data": {
      "image/png": "[encoded data removed]",
      "text/plain": [
       "<Figure size 360x360 with 1 Axes>"
      ]
     },
     "metadata": {},
     "output_type": "display_data"
    },
    {
     "data": {
      "image/png": "[encoded data removed]",
      "text/plain": [
       "<Figure size 360x360 with 1 Axes>"
      ]
     },
     "metadata": {},
     "output_type": "display_data"
    },
    {
     "data": {
      "image/png": "[encoded data removed]",
      "text/plain": [
       "<Figure size 360x360 with 1 Axes>"
      ]
     },
     "metadata": {},
     "output_type": "display_data"
    }
   ],
   "source": [
    "# lmplot : basically it is LINEAR-MODEL \n",
    "# In genral we use plot scatter plot and plot command.. lmplot combines both\n",
    "# the graph and plot LINW=ERA-MODEL with specific condition.\n",
    "\n",
    "sns.lmplot(x='R&D Spend',y='Profit',scatter=True,data=data)\n",
    "\n",
    "sns.lmplot(x='Marketing Spend',y='Profit',scatter=True,data=data)\n",
    "\n",
    "sns.lmplot(x='Administration',y='Profit',scatter=True,data=data)\n",
    "plt.show();"
   ]
  },
  {
   "cell_type": "markdown",
   "id": "e1c9d7d9-e24c-444c-b5c2-4035ea6708ad",
   "metadata": {},
   "source": [
    "`Inferences:-` \n",
    "* In lmplot we see the `R&D Spend` and `Marketing Spend` Values are directly proportional to the `Profit`.\n",
    "* ther is no direct relation bet `Administration` & `Profit` ."
   ]
  },
  {
   "cell_type": "markdown",
   "id": "12ea25e0-d61b-4a4b-9288-54a890fa21b9",
   "metadata": {},
   "source": [
    "#### **1] Selection X & y**"
   ]
  },
  {
   "cell_type": "code",
   "execution_count": 50,
   "id": "86945a25-9f35-45e5-af8a-103bb30a202b",
   "metadata": {},
   "outputs": [],
   "source": [
    "X=data1.iloc[:,:-1]\n",
    "y=data1['Profit'].values"
   ]
  },
  {
   "cell_type": "code",
   "execution_count": 51,
   "id": "418f6a23-26c8-4e92-9d10-0e3832dea29b",
   "metadata": {},
   "outputs": [
    {
     "data": {
      "text/plain": [
       "array([192261.83, 191792.06, 191050.39, 182901.99, 166187.94, 156991.12,\n",
       "       156122.51, 155752.6 , 152211.77, 149759.96, 146121.95, 144259.4 ,\n",
       "       141585.52, 134307.35, 132602.65, 129917.04, 126992.93, 125370.37,\n",
       "       124266.9 , 122776.86, 118474.03, 111313.02, 110352.25, 108733.99,\n",
       "       108552.04, 107404.34, 105733.54, 105008.31, 103282.38, 101004.64,\n",
       "        99937.59,  97483.56,  97427.84,  96778.92,  96712.8 ,  96479.51,\n",
       "        90708.19,  89949.14,  81229.06,  81005.76,  78239.91,  77798.83,\n",
       "        71498.49,  69758.98,  65200.33,  64926.08,  49490.75,  42559.73,\n",
       "        35673.41,  14681.4 ])"
      ]
     },
     "execution_count": 51,
     "metadata": {},
     "output_type": "execute_result"
    }
   ],
   "source": [
    "data1['Profit'].values"
   ]
  },
  {
   "cell_type": "code",
   "execution_count": 52,
   "id": "8d7fe7ca-ff79-4af1-81df-6f340643bb60",
   "metadata": {},
   "outputs": [
    {
     "name": "stdout",
     "output_type": "stream",
     "text": [
      "X_train\n",
      ":     R&D Spend  Marketing Spend\n",
      "33   55493.95        214634.81\n",
      "35   46014.02        205517.64\n",
      "26   75328.87        134050.07\n",
      "34   46426.07        210797.67\n",
      "18   91749.16        294919.57\n",
      "X_test\n",
      ":     R&D Spend  Marketing Spend\n",
      "28   66051.52        118148.20\n",
      "11  100671.96        249744.55\n",
      "10  101913.08        229160.95\n",
      "41   27892.92        164470.71\n",
      "2   153441.51        407934.54\n",
      "y_train\n",
      ": [ 96778.92  96479.51 105733.54  96712.8  124266.9 ]\n",
      "y_test\n",
      ": [103282.38 144259.4  146121.95  77798.83 191050.39]\n"
     ]
    }
   ],
   "source": [
    "from sklearn.model_selection import train_test_split\n",
    "\n",
    "X_train , X_test , y_train ,y_test =train_test_split(X,y ,test_size=0.2 ,random_state=0)\n",
    "print(\"X_train\\n:\",X_train[:5])\n",
    "print(\"X_test\\n:\",X_test[:5])\n",
    "print(\"y_train\\n:\",y_train[:5])\n",
    "print(\"y_test\\n:\",y_test[:5])"
   ]
  },
  {
   "cell_type": "code",
   "execution_count": 53,
   "id": "b0edd19c-0576-468a-9a84-24450fa6aead",
   "metadata": {},
   "outputs": [],
   "source": [
    "from sklearn.linear_model  import LinearRegression\n",
    "#instantiate the model\n",
    "model=LinearRegression()"
   ]
  },
  {
   "cell_type": "code",
   "execution_count": 54,
   "id": "f8b50bda-6261-444e-8823-7f9d71e1b8d0",
   "metadata": {},
   "outputs": [
    {
     "data": {
      "text/plain": [
       "LinearRegression()"
      ]
     },
     "execution_count": 54,
     "metadata": {},
     "output_type": "execute_result"
    }
   ],
   "source": [
    "model.fit(X_train,y_train)"
   ]
  },
  {
   "cell_type": "code",
   "execution_count": 57,
   "id": "62a19b36-2ee9-4a70-9c62-980b08c4599d",
   "metadata": {},
   "outputs": [
    {
     "name": "stdout",
     "output_type": "stream",
     "text": [
      "Intercept 46346.33876123656\n",
      "Coefficients  [0.7886183  0.03257663]\n"
     ]
    }
   ],
   "source": [
    "print(\"Intercept\",model.intercept_)\n",
    "print(\"Coefficients \",model.coef_)\n"
   ]
  },
  {
   "cell_type": "code",
   "execution_count": 58,
   "id": "f06f819e-c870-4c65-8d7c-41a1fcbb475d",
   "metadata": {},
   "outputs": [
    {
     "name": "stdout",
     "output_type": "stream",
     "text": [
      "Multiple linear Equation is : 46346.33876123656  + 0.7886182999424614 *R&D Spend + 0.032576627317020664 * 'Marketing Spend \n"
     ]
    }
   ],
   "source": [
    "print(\"Multiple linear Equation is : {}  + {} *R&D Spend + {} * 'Marketing Spend \".format(model.intercept_,model.coef_[0],model.coef_[1]))"
   ]
  },
  {
   "cell_type": "code",
   "execution_count": 59,
   "id": "e8d57d53-c2c2-43f1-8e48-77687415f89d",
   "metadata": {},
   "outputs": [],
   "source": [
    "y_train_pred=model.predict(X_train)\n",
    "y_test_pred=model.predict(X_test)"
   ]
  },
  {
   "cell_type": "markdown",
   "id": "e7494ae8-3182-453a-a421-13c8e2867ca2",
   "metadata": {},
   "source": [
    "#### 2 ] Performance Matrics"
   ]
  },
  {
   "cell_type": "markdown",
   "id": "47cc32c8-652c-4010-b458-34495f834255",
   "metadata": {},
   "source": [
    "**2.1] Mean Squared Error**"
   ]
  },
  {
   "cell_type": "code",
   "execution_count": 60,
   "id": "013db8a4-9010-4b6a-b229-a6730a887e58",
   "metadata": {},
   "outputs": [
    {
     "name": "stdout",
     "output_type": "stream",
     "text": [
      "Mean_squared_error\n",
      "For_train : 82421303.30986762\n",
      "For_test: 67220275.37568124\n"
     ]
    }
   ],
   "source": [
    "\n",
    "from sklearn.metrics import *\n",
    "print(\"Mean_squared_error\")\n",
    "print(\"For_train :\",mean_squared_error(y_train,y_train_pred))\n",
    "print(\"For_test:\",mean_squared_error(y_test,y_test_pred))\n",
    "      \n"
   ]
  },
  {
   "cell_type": "markdown",
   "id": "af23053e-4f56-4460-9066-2ea5bc90fc17",
   "metadata": {},
   "source": [
    "**2.2]  r2_score**"
   ]
  },
  {
   "cell_type": "code",
   "execution_count": 61,
   "id": "c3b1e095-5f9a-427e-a17f-b3cc87cca274",
   "metadata": {},
   "outputs": [
    {
     "name": "stdout",
     "output_type": "stream",
     "text": [
      "The r2_score for train : 0.9496654854268443\n",
      "The r2_score for test : 0.9474386447268488\n"
     ]
    }
   ],
   "source": [
    "from sklearn.metrics import *\n",
    "Train_score_m=r2_score(y_train,y_train_pred)\n",
    "Test_score_m=r2_score(y_test,y_test_pred)\n",
    "print(\"The r2_score for train :\",Train_score_m)\n",
    "      \n",
    "print(\"The r2_score for test :\",Test_score_m)"
   ]
  },
  {
   "cell_type": "markdown",
   "id": "f66457b5-f407-4c20-82c6-d2d3865eede4",
   "metadata": {},
   "source": [
    "`Conclusion:` 94.74 % of the data fit the regression model "
   ]
  },
  {
   "cell_type": "markdown",
   "id": "e441f21d-02a6-4ba6-bad3-00e4b02b7644",
   "metadata": {},
   "source": [
    "**2.3] Mean Absoluate Error**"
   ]
  },
  {
   "cell_type": "code",
   "execution_count": 62,
   "id": "c80fa2aa-3a8f-4f24-9fdc-6e2ac503fa94",
   "metadata": {},
   "outputs": [
    {
     "name": "stdout",
     "output_type": "stream",
     "text": [
      "Mean_squaredAbsoluate_error\n",
      "For_train : 6376.801477711439\n",
      "For_test: 6886.594588246512\n"
     ]
    }
   ],
   "source": [
    "print(\"Mean_squaredAbsoluate_error\")\n",
    "print(\"For_train :\",mean_absolute_error(y_train,y_train_pred))\n",
    "print(\"For_test:\",mean_absolute_error(y_test,y_test_pred))\n",
    "      "
   ]
  },
  {
   "cell_type": "markdown",
   "id": "af1a1b4c-724c-4520-88df-a7a06465346f",
   "metadata": {},
   "source": [
    "### 3] Cross_Validation :"
   ]
  },
  {
   "cell_type": "markdown",
   "id": "ec08484b-2136-4e49-b0a0-b7e362938fa0",
   "metadata": {},
   "source": [
    "**3.1] CV with Genral**"
   ]
  },
  {
   "cell_type": "code",
   "execution_count": 63,
   "id": "176b5cdd-3811-4e66-b57e-661e550ba03a",
   "metadata": {},
   "outputs": [
    {
     "name": "stdout",
     "output_type": "stream",
     "text": [
      "Train_score: [0.87531407 0.95193506 0.95330354 0.95386187 0.89457502]\n",
      "accuracy_fold_train: 0.9257979131153522\n",
      "Test_score \n",
      " : [0.63883747 0.91679417 0.90713166 0.89935871 0.94159279]\n",
      "accuracy_fold_test: 0.8607429598862175\n"
     ]
    }
   ],
   "source": [
    "from sklearn.model_selection import KFold\n",
    "from sklearn.model_selection import cross_val_score\n",
    "model=LinearRegression()\n",
    "fold=KFold(n_splits=5,shuffle=True, random_state=25)\n",
    "train_scores=cross_val_score(model,X_train,y_train,scoring='r2',cv=fold)\n",
    "print(\"Train_score:\",train_scores)\n",
    "\n",
    "accuracy_fold_train_m=np.mean(abs(train_scores))\n",
    "print(\"accuracy_fold_train:\",accuracy_fold_train_m)\n",
    "\n",
    "test_scores=cross_val_score(model,X_test,y_test,scoring='r2',cv=fold)\n",
    "print(\"Test_score \\n :\",test_scores)\n",
    "\n",
    "accuracy_fold_test_m=np.mean(abs(test_scores))\n",
    "print(\"accuracy_fold_test:\",accuracy_fold_test_m)"
   ]
  },
  {
   "cell_type": "markdown",
   "id": "83c40dbb-49e2-4324-9ec2-153056cbbe38",
   "metadata": {},
   "source": [
    "### 4] Regularization"
   ]
  },
  {
   "cell_type": "markdown",
   "id": "05825ecc-cec0-4f6c-8662-1e3942821e82",
   "metadata": {},
   "source": [
    "**4.1]Regularization with Lasso**"
   ]
  },
  {
   "cell_type": "code",
   "execution_count": 64,
   "id": "0f68c299-a45b-4183-b086-4d77f7bc55cf",
   "metadata": {},
   "outputs": [
    {
     "name": "stdout",
     "output_type": "stream",
     "text": [
      "Lasso Regularization Method\n",
      "lasso_train_score\n",
      "0.9489900188911891 \n",
      "lasso_test_score\n",
      " 0.9486773788401999 \n"
     ]
    }
   ],
   "source": [
    "from sklearn import linear_model\n",
    "\n",
    "l1=linear_model.Lasso(alpha=50,max_iter=200,tol=0.1)\n",
    "l1.fit(X_train,y_train)\n",
    "\n",
    "Lasso_test_m=l1.score(X_test,y_test)\n",
    "Lasso_train_m=l1.score(X_train,y_train)\n",
    "\n",
    "print(\"Lasso Regularization Method\")\n",
    "\n",
    "print(\"lasso_train_score\\n{} \".format(Lasso_train_m))\n",
    "print(\"lasso_test_score\\n {} \".format(Lasso_test_m))"
   ]
  },
  {
   "cell_type": "markdown",
   "id": "fb9796bd-13e2-4cb3-88c6-a2f2a038c493",
   "metadata": {},
   "source": [
    "**4.1.1] CV with Lasso**"
   ]
  },
  {
   "cell_type": "code",
   "execution_count": 65,
   "id": "66c6ec3d-d02e-4059-b326-213a88b60608",
   "metadata": {},
   "outputs": [
    {
     "name": "stdout",
     "output_type": "stream",
     "text": [
      "Train_score \n",
      ": [0.86257403 0.94946014 0.95185943 0.9514304  0.89858214]\n",
      "  accuracy_fold_train \n",
      ": 0.9227812279910301\n",
      "Test_score \n",
      ": [0.86257403 0.94946014 0.95185943 0.9514304  0.89858214]\n",
      "accuracy_fold_test \n",
      " : 0.8845659627585046\n"
     ]
    }
   ],
   "source": [
    "from sklearn.model_selection import KFold\n",
    "from sklearn.model_selection import cross_val_score\n",
    "\n",
    "fold=KFold(n_splits=5,shuffle=True, random_state=25)\n",
    "train_scores=cross_val_score(l1,X_train,y_train,scoring='r2',cv=fold)\n",
    "print(\"Train_score \\n:\",train_scores )\n",
    "\n",
    "lasso_cv_train_m=np.mean(abs(train_scores))\n",
    "print(\"  accuracy_fold_train \\n:\",lasso_cv_train_m)\n",
    "\n",
    "test_scores=cross_val_score(l1,X_test,y_test,scoring='r2',cv=fold)\n",
    "print(\"Test_score \\n:\",train_scores )\n",
    "\n",
    "\n",
    "lasso_cv__test_m=np.mean(abs(test_scores))\n",
    "print(\"accuracy_fold_test \\n :\",lasso_cv__test_m)"
   ]
  },
  {
   "cell_type": "markdown",
   "id": "b2409065-5d3d-49f6-87e0-a61c2b6d4c5a",
   "metadata": {},
   "source": [
    "**4.2]Regularization with Ridge**"
   ]
  },
  {
   "cell_type": "code",
   "execution_count": 66,
   "id": "8167298a-2882-450f-8128-ed4e083f0d39",
   "metadata": {},
   "outputs": [
    {
     "name": "stdout",
     "output_type": "stream",
     "text": [
      "Ridge Regularization Method\n",
      "Ridge_train_score\n",
      "0.9496654854268443 \n",
      "Ridge_test_score\n",
      " 0.9474386446700032 \n"
     ]
    }
   ],
   "source": [
    "from sklearn import linear_model\n",
    "\n",
    "l2=linear_model.Ridge(alpha=50,max_iter=200,tol=0.1)\n",
    "l2.fit(X_train,y_train)\n",
    "\n",
    "Ridge_test_m=l2.score(X_test,y_test)\n",
    "Ridge_train_m=l2.score(X_train,y_train)\n",
    "\n",
    "print(\"Ridge Regularization Method\")\n",
    "\n",
    "print(\"Ridge_train_score\\n{} \".format(Ridge_train_m))\n",
    "print(\"Ridge_test_score\\n {} \".format(Ridge_test_m))"
   ]
  },
  {
   "cell_type": "markdown",
   "id": "ef5fb17c-02e0-41cf-97b0-c03e7e622c2f",
   "metadata": {},
   "source": [
    "**4.2.1] CV with Ridge**"
   ]
  },
  {
   "cell_type": "code",
   "execution_count": 67,
   "id": "886974db-ddd8-411e-b4ee-db340595b565",
   "metadata": {},
   "outputs": [
    {
     "name": "stdout",
     "output_type": "stream",
     "text": [
      "Train_score \n",
      ": [0.87531407 0.95193506 0.95330354 0.95386187 0.89457502]\n",
      "  accuracy_fold_train \n",
      ": 0.925797913155144\n",
      "Test_score \n",
      ": [0.63883746 0.91679417 0.90713166 0.89935872 0.94159279]\n",
      "accuracy_fold_test \n",
      " : 0.8607429573110401\n"
     ]
    }
   ],
   "source": [
    "from sklearn.model_selection import KFold\n",
    "from sklearn.model_selection import cross_val_score\n",
    "\n",
    "\n",
    "train_scores=cross_val_score(l2,X_train,y_train,scoring='r2',cv=fold)\n",
    "print(\"Train_score \\n:\",train_scores )\n",
    "\n",
    "Ridge_cv_train_m=np.mean(abs(train_scores))\n",
    "print(\"  accuracy_fold_train \\n:\",Ridge_cv_train_m)\n",
    "\n",
    "test_scores=cross_val_score(l2,X_test,y_test,scoring='r2',cv=fold)\n",
    "print(\"Test_score \\n:\",test_scores )\n",
    "\n",
    "\n",
    "Ridge_cv_test_m=np.mean(abs(test_scores))\n",
    "print(\"accuracy_fold_test \\n :\",Ridge_cv_test_m)"
   ]
  },
  {
   "cell_type": "markdown",
   "id": "f4843f50-0c63-44e1-ab11-e3459204e3d1",
   "metadata": {},
   "source": [
    "**4.3]Regularization with Elastic-Net**"
   ]
  },
  {
   "cell_type": "code",
   "execution_count": 68,
   "id": "a7a20284-3999-4e55-a41a-c4d8e60ccee0",
   "metadata": {},
   "outputs": [
    {
     "name": "stdout",
     "output_type": "stream",
     "text": [
      "ElasticNet(alpha=50, max_iter=100, tol=0.1)\n",
      "For_train: 0.9489900188961935\n",
      "For_test: 0.9486773788129892\n"
     ]
    }
   ],
   "source": [
    "from sklearn.linear_model import ElasticNet\n",
    "l3= ElasticNet(alpha = 50,max_iter=100,tol=0.1)\n",
    "print(l3.fit(X_train, y_train))\n",
    "\n",
    "Els_train_m=l3.score(X_train,y_train)\n",
    "Els_test_m=l3.score(X_test,y_test)\n",
    "print(\"For_train:\",Els_train_m)\n",
    "print(\"For_test:\",Els_test_m)"
   ]
  },
  {
   "cell_type": "markdown",
   "id": "ad76d469-36c3-4738-8cef-03d75fa5310b",
   "metadata": {},
   "source": [
    "**4.2.1] Cv with Els**"
   ]
  },
  {
   "cell_type": "code",
   "execution_count": 69,
   "id": "78b20d2d-a929-4e77-914f-b4755f66231f",
   "metadata": {},
   "outputs": [
    {
     "name": "stdout",
     "output_type": "stream",
     "text": [
      "Train_score: [0.86257403 0.94946014 0.95185943 0.95143039 0.89858214]\n",
      "K_fold_Train_score: 0.9227812277518748\n",
      "Test_score: [0.74022496 0.92416669 0.9070909  0.90824799 0.94309925]\n",
      "K_fold_test_score: 0.884565958499142\n"
     ]
    }
   ],
   "source": [
    "from sklearn.model_selection import KFold\n",
    "from sklearn.model_selection import cross_val_score\n",
    "\n",
    "\n",
    "train_score=cross_val_score(l3,X_train,y_train,cv=fold)\n",
    "print(\"Train_score:\",train_score)\n",
    "\n",
    "Els_cv_train_m=np.mean(abs(train_score))\n",
    "print(\"K_fold_Train_score:\",Els_cv_train_m)\n",
    "\n",
    "test_score=cross_val_score(l3,X_test,y_test,cv=fold)\n",
    "print(\"Test_score:\",test_score)\n",
    "\n",
    "Els_cv_test_m=np.mean(abs(test_score))\n",
    "print(\"K_fold_test_score:\",Els_cv_test_m)"
   ]
  },
  {
   "cell_type": "markdown",
   "id": "ba64288a-1d37-4809-8506-182fffbb3de6",
   "metadata": {},
   "source": [
    "`**Comparision Plot:-**`"
   ]
  },
  {
   "cell_type": "code",
   "execution_count": 70,
   "id": "92c51836-59b7-4321-ab9c-7956ee2eb069",
   "metadata": {},
   "outputs": [],
   "source": [
    "#fit model\n",
    "model.fit(X_train,y_train)\n",
    "#get prediction for our model\n",
    "y_test_pred=model.predict(X_test)\n",
    "\n",
    "#get prediction for lasso\n",
    "y_test_pred_lasso=l1.predict(X_test)\n",
    "#get prediction for Ridge\n",
    "y_test_pred_ridg=l2.predict(X_test)\n",
    "#get prediction for els\n",
    "y_test_pred_els=l3.predict(X_test)"
   ]
  },
  {
   "cell_type": "code",
   "execution_count": 71,
   "id": "029cb18f-eb8d-4822-b0d7-926d4614c810",
   "metadata": {},
   "outputs": [
    {
     "data": {
      "text/plain": [
       "Text(0.5, 1.0, 'Elasicnet')"
      ]
     },
     "execution_count": 71,
     "metadata": {},
     "output_type": "execute_result"
    },
    {
     "data": {
      "image/png": "[encoded data removed]",
      "text/plain": [
       "<Figure size 1152x576 with 4 Axes>"
      ]
     },
     "metadata": {},
     "output_type": "display_data"
    }
   ],
   "source": [
    "fig, axs = plt.subplots(ncols=2,nrows=2)\n",
    "fig.set_figheight(8)\n",
    "fig.set_figwidth(16)\n",
    "fig.subplots_adjust(hspace=0.35)\n",
    "sns.regplot(x=y_test,y=y_test_pred,ax=axs[0,0],line_kws={\"color\":\"black\"})\n",
    "axs[0, 0].set_title('LineerRegresion')\n",
    "\n",
    "sns.regplot(x=y_test,y=y_test_pred_lasso,color=\"black\",ax=axs[0,1],line_kws={\"color\":\"red\"})\n",
    "axs[0,1].set_title('Lasso')\n",
    "sns.regplot(x=y_test,y=y_test_pred_ridg,color=\"red\",ax=axs[1,0],line_kws={\"color\":\"black\"})\n",
    "axs[1, 0].set_title('Ridge')\n",
    "sns.regplot(x=y_test,y=y_test_pred_els,color=\"purple\",ax=axs[1,1],line_kws={\"color\":\"black\"})\n",
    "axs[1, 1].set_title('Elasicnet')"
   ]
  },
  {
   "cell_type": "code",
   "execution_count": 72,
   "id": "8f516997-a78c-4cbd-b1b0-a46e8759ce34",
   "metadata": {},
   "outputs": [
    {
     "name": "stdout",
     "output_type": "stream",
     "text": [
      "---------------------------------------------\n",
      "              ALL-RESULTS             \n",
      "---------------------------------------------\n",
      "        SINGLE_REGRESSION_RESULTS     \n",
      "---------------------------------------------\n",
      "Train_score\n",
      ":- 0.9476445670285694\n",
      "Test_score\n",
      ":- 0.9360398184741837\n",
      "---------------------------------------------\n",
      "93.60398184741837  of the data fit the regression model\n",
      "---------------------------------------------\n",
      "CV_Train\n",
      ":- 0.9198643891933191\n",
      "CV_Test\n",
      ":- 0.8943555011156465\n",
      "Lasso_train\n",
      ":- 0.9476445670285688\n",
      "Lasso_test\n",
      ":- 0.9360398195213077\n",
      "Lasso_train_cv\n",
      ":- 0.925583632884112\n",
      "Lasso_test_cv\n",
      ":- 0.8932355501541034\n",
      "Ridge_train\n",
      ":- 0.9476445670285694\n",
      "Ridge_test\n",
      ":- 0.9360398184998597\n",
      "Ridge_train_cv\n",
      ":- 0.9198643893254609\n",
      "Ridge_test_cv\n",
      ":- 0.8943555016425266\n",
      "ELS_train\n",
      ":- 0.9476445670285688\n",
      "ELS_test\n",
      ":- 0.9360398194470757\n",
      "ELS_train_cv\n",
      ":- 0.9255836329092493\n",
      "ELS_train_cv\n",
      ":- 0.8932355518534136\n",
      "=============================================\n",
      "=============================================\n",
      "       MULTIPLE_REGRESSION_RESULTS      \n",
      "---------------------------------------------\n",
      "Train_score_M\n",
      ":- 0.9496654854268443\n",
      "Test_score_M\n",
      ":- 0.9474386447268488\n",
      "---------------------------------------------\n",
      "94.74386447268488  of the data fit the regression model\n",
      "---------------------------------------------\n",
      "CV_Train_M\n",
      ":- 0.9257979131153522\n",
      "CV_Test_M\n",
      ":- 0.8607429598862175\n",
      "Lasso_train_M\n",
      ":- 0.9489900188911891\n",
      "Lasso_test_M\n",
      ":- 0.9486773788401999\n",
      "Lasso_train_cv_M\n",
      ":- 0.9227812279910301\n",
      "Lasso_test_cv_M\n",
      ":- 0.8845659627585046\n",
      "Ridge_train_M\n",
      ":- 0.9496654854268443\n",
      "Ridge_test_M\n",
      ":- 0.9474386446700032\n",
      "Ridge_train_cv_M\n",
      ":- 0.925797913155144\n",
      "Ridge_test_cv_M\n",
      ":- 0.8607429573110401\n",
      "ELS_train_M\n",
      ":- 0.9489900188961935\n",
      "ELS_test_M\n",
      ":- 0.9486773788129892\n",
      "ELS_train_cv_M\n",
      ":- 0.9227812277518748\n",
      "ELS_test_cv_M\n",
      ":- 0.884565958499142\n",
      "****************************************\n",
      "             Thanku               \n",
      "****************************************\n"
     ]
    }
   ],
   "source": [
    "print(\"-\"*45)\n",
    "print(\"              ALL-RESULTS             \")\n",
    "print(\"-\"*45)\n",
    "print(\"        SINGLE_REGRESSION_RESULTS     \"   )\n",
    "print(\"-\"*45)\n",
    "\n",
    "print(\"Train_score\\n:-\",Train_score_single)\n",
    "print(\"Test_score\\n:-\",Test_score_single)\n",
    "test=Test_score_single*100\n",
    "print(\"-\"*45)\n",
    "print(\"{}  of the data fit the regression model\".format(test))\n",
    "print(\"-\"*45)\n",
    "print(\"CV_Train\\n:-\",accuracy_fold_train_s)\n",
    "print(\"CV_Test\\n:-\",accuracy_fold_test_s)\n",
    "print(\"Lasso_train\\n:-\",Lasso_train_s)\n",
    "print(\"Lasso_test\\n:-\",Lasso_test_s)\n",
    "print(\"Lasso_train_cv\\n:-\",Lasso_cv_train)\n",
    "print(\"Lasso_test_cv\\n:-\",Lasso_cv_test)\n",
    "print(\"Ridge_train\\n:-\",train_score_L2)\n",
    "print(\"Ridge_test\\n:-\",test_score_L2)\n",
    "\n",
    "print(\"Ridge_train_cv\\n:-\",Ridge_cv_train)\n",
    "print(\"Ridge_test_cv\\n:-\",Ridge_cv_test)\n",
    "print(\"ELS_train\\n:-\",Els_train_s)\n",
    "print(\"ELS_test\\n:-\",Els_test_s)\n",
    "print(\"ELS_train_cv\\n:-\",Els_cv_train)\n",
    "print(\"ELS_train_cv\\n:-\",Els_cv_test)\n",
    "print(\"=\"*45)\n",
    "print(\"=\"*45)\n",
    "print(\"       MULTIPLE_REGRESSION_RESULTS      \")\n",
    "print(\"-\"*45)\n",
    "print(\"Train_score_M\\n:-\",Train_score_m)\n",
    "print(\"Test_score_M\\n:-\",Test_score_m)\n",
    "test_M=Test_score_m *100\n",
    "print(\"-\"*45)\n",
    "print(\"{}  of the data fit the regression model\".format(test_M))\n",
    "print(\"-\"*45)\n",
    "print(\"CV_Train_M\\n:-\",accuracy_fold_train_m)\n",
    "print(\"CV_Test_M\\n:-\",accuracy_fold_test_m)\n",
    "print(\"Lasso_train_M\\n:-\",Lasso_train_m)\n",
    "print(\"Lasso_test_M\\n:-\",Lasso_test_m)\n",
    "\n",
    "print(\"Lasso_train_cv_M\\n:-\",lasso_cv_train_m)\n",
    "print(\"Lasso_test_cv_M\\n:-\",lasso_cv__test_m)\n",
    "print(\"Ridge_train_M\\n:-\",Ridge_train_m)\n",
    "print(\"Ridge_test_M\\n:-\",Ridge_test_m)\n",
    "print(\"Ridge_train_cv_M\\n:-\",Ridge_cv_train_m)\n",
    "print(\"Ridge_test_cv_M\\n:-\",Ridge_cv_test_m)\n",
    "print(\"ELS_train_M\\n:-\",Els_train_m)\n",
    "print(\"ELS_test_M\\n:-\",Els_test_m)\n",
    "print(\"ELS_train_cv_M\\n:-\",Els_cv_train_m)\n",
    "print(\"ELS_test_cv_M\\n:-\",Els_cv_test_m)\n",
    "print(\"*\"*40)\n",
    "print(\"             Thanku               \")\n",
    "\n",
    "print(\"*\"*40)"
   ]
  },
  {
   "cell_type": "markdown",
   "id": "b209ec90-c73c-45a2-a7ff-57bc96219f1c",
   "metadata": {},
   "source": [
    "`All-Inferences=-`\n",
    "\n",
    "**For-single**\n",
    "\n",
    "`inferences:-`\n",
    "\n",
    "* we have a good results with single regression .\n",
    "* with all regularization Technique we obtain a good result with same values  .\n",
    "\n",
    "**For-Multiple**\n",
    "\n",
    "`inferences:-`\n",
    "* it is quite good results in Multiple regression \n",
    "* with all regularization Technique we have a good result  but for   `ELS` Regularization is good  ."
   ]
  },
  {
   "cell_type": "markdown",
   "id": "a3d24f2a-d251-40d1-95e6-75e575427e01",
   "metadata": {},
   "source": [
    "`CONCLUSION:-` \n",
    "\n",
    "-**In this model we get good results in Simple Regression  as compared to Multiple regression .\n",
    "beacuse in Simple regression the `R&D Spend ` is good or sufficient to explian the effect on the `profit` as compaired to Multiple Regression**-- "
   ]
  }
 ],
 "metadata": {
  "kernelspec": {
   "display_name": "Python 3 (ipykernel)",
   "language": "python",
   "name": "python3"
  },
  "language_info": {
   "codemirror_mode": {
    "name": "ipython",
    "version": 3
   },
   "file_extension": ".py",
   "mimetype": "text/x-python",
   "name": "python",
   "nbconvert_exporter": "python",
   "pygments_lexer": "ipython3",
   "version": "3.9.7"
  }
 },
 "nbformat": 4,
 "nbformat_minor": 5
}
